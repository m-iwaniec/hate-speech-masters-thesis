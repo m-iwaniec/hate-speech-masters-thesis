{
  "nbformat": 4,
  "nbformat_minor": 0,
  "metadata": {
    "colab": {
      "name": "ngrams.ipynb",
      "provenance": [],
      "collapsed_sections": []
    },
    "kernelspec": {
      "name": "python3",
      "display_name": "Python 3"
    },
    "language_info": {
      "name": "python"
    }
  },
  "cells": [
    {
      "cell_type": "code",
      "metadata": {
        "colab": {
          "base_uri": "https://localhost:8080/"
        },
        "id": "-JLVVqRUKdgg",
        "outputId": "61b05993-5ddf-4d16-b7a7-67e917393f34"
      },
      "source": [
        "import nltk\n",
        "nltk.download('punkt')\n",
        "import string\n",
        "import math\n",
        "import csv\n",
        "\n",
        "text = \"/content/founta_dataset.csv\"\n",
        "with open(text) as f:\n",
        "    text_raw = f.read().lower()\n",
        "\n",
        "# remove punctuation\n",
        "translate_table = dict((ord(char), None) for char in string.punctuation);\n",
        "text_raw = text_raw.translate(translate_table)\n",
        "\n",
        "# tokenize\n",
        "tokens = nltk.word_tokenize(text_raw)\n",
        "bigrams = nltk.bigrams(tokens)\n",
        "\n",
        "# unigram/bigram frequencies\n",
        "unigram_counts = nltk.FreqDist(tokens)\n",
        "bigram_counts = nltk.FreqDist(bigrams)\n",
        "\n",
        "# write to file\n",
        "unigram_path = text + \".unigrams\"\n",
        "bigram_path = text + \".bigrams\"\n",
        "\n",
        "with open(unigram_path, \"w\") as f:\n",
        "    writer = csv.writer(f)\n",
        "    filtered = [ (w,c) for w,c in unigram_counts.items() if c > 1]\n",
        "    writer.writerows(filtered);\n",
        "    \n",
        "with open(bigram_path, \"w\") as f:\n",
        "    writer = csv.writer(f)\n",
        "    filtered = [ (b[0], b[1],c) for b,c in bigram_counts.items() if c > 3]\n",
        "    writer.writerows(filtered)"
      ],
      "execution_count": 3,
      "outputs": [
        {
          "output_type": "stream",
          "text": [
            "[nltk_data] Downloading package punkt to /root/nltk_data...\n",
            "[nltk_data]   Package punkt is already up-to-date!\n"
          ],
          "name": "stdout"
        }
      ]
    },
    {
      "cell_type": "code",
      "metadata": {
        "colab": {
          "base_uri": "https://localhost:8080/",
          "height": 206
        },
        "id": "YD3jYpHwKj_k",
        "outputId": "15df07a7-601e-4346-b531-39c8d8fc736b"
      },
      "source": [
        "import pandas as pd\n",
        "\n",
        "bigr = pd.read_csv(\"/content/founta_dataset.csv.bigrams\", header=None)\n",
        "bigr.head()"
      ],
      "execution_count": 4,
      "outputs": [
        {
          "output_type": "execute_result",
          "data": {
            "text/html": [
              "<div>\n",
              "<style scoped>\n",
              "    .dataframe tbody tr th:only-of-type {\n",
              "        vertical-align: middle;\n",
              "    }\n",
              "\n",
              "    .dataframe tbody tr th {\n",
              "        vertical-align: top;\n",
              "    }\n",
              "\n",
              "    .dataframe thead th {\n",
              "        text-align: right;\n",
              "    }\n",
              "</style>\n",
              "<table border=\"1\" class=\"dataframe\">\n",
              "  <thead>\n",
              "    <tr style=\"text-align: right;\">\n",
              "      <th></th>\n",
              "      <th>0</th>\n",
              "      <th>1</th>\n",
              "      <th>2</th>\n",
              "    </tr>\n",
              "  </thead>\n",
              "  <tbody>\n",
              "    <tr>\n",
              "      <th>0</th>\n",
              "      <td>beats</td>\n",
              "      <td>by</td>\n",
              "      <td>25</td>\n",
              "    </tr>\n",
              "    <tr>\n",
              "      <th>1</th>\n",
              "      <td>by</td>\n",
              "      <td>dr</td>\n",
              "      <td>25</td>\n",
              "    </tr>\n",
              "    <tr>\n",
              "      <th>2</th>\n",
              "      <td>dr</td>\n",
              "      <td>dre</td>\n",
              "      <td>21</td>\n",
              "    </tr>\n",
              "    <tr>\n",
              "      <th>3</th>\n",
              "      <td>spam</td>\n",
              "      <td>4</td>\n",
              "      <td>4290</td>\n",
              "    </tr>\n",
              "    <tr>\n",
              "      <th>4</th>\n",
              "      <td>4</td>\n",
              "      <td>rt</td>\n",
              "      <td>5459</td>\n",
              "    </tr>\n",
              "  </tbody>\n",
              "</table>\n",
              "</div>"
            ],
            "text/plain": [
              "       0    1     2\n",
              "0  beats   by    25\n",
              "1     by   dr    25\n",
              "2     dr  dre    21\n",
              "3   spam    4  4290\n",
              "4      4   rt  5459"
            ]
          },
          "metadata": {
            "tags": []
          },
          "execution_count": 4
        }
      ]
    },
    {
      "cell_type": "code",
      "metadata": {
        "colab": {
          "base_uri": "https://localhost:8080/",
          "height": 206
        },
        "id": "thWe5NB0KkDR",
        "outputId": "4266ae85-b20d-4c87-bda2-f536b6cb02fa"
      },
      "source": [
        "unigr = pd.read_csv(\"/content/founta_dataset.csv.unigrams\", header=None)\n",
        "unigr.head()"
      ],
      "execution_count": 5,
      "outputs": [
        {
          "output_type": "execute_result",
          "data": {
            "text/html": [
              "<div>\n",
              "<style scoped>\n",
              "    .dataframe tbody tr th:only-of-type {\n",
              "        vertical-align: middle;\n",
              "    }\n",
              "\n",
              "    .dataframe tbody tr th {\n",
              "        vertical-align: top;\n",
              "    }\n",
              "\n",
              "    .dataframe thead th {\n",
              "        text-align: right;\n",
              "    }\n",
              "</style>\n",
              "<table border=\"1\" class=\"dataframe\">\n",
              "  <thead>\n",
              "    <tr style=\"text-align: right;\">\n",
              "      <th></th>\n",
              "      <th>0</th>\n",
              "      <th>1</th>\n",
              "    </tr>\n",
              "  </thead>\n",
              "  <tbody>\n",
              "    <tr>\n",
              "      <th>0</th>\n",
              "      <td>beats</td>\n",
              "      <td>108</td>\n",
              "    </tr>\n",
              "    <tr>\n",
              "      <th>1</th>\n",
              "      <td>by</td>\n",
              "      <td>5036</td>\n",
              "    </tr>\n",
              "    <tr>\n",
              "      <th>2</th>\n",
              "      <td>dr</td>\n",
              "      <td>144</td>\n",
              "    </tr>\n",
              "    <tr>\n",
              "      <th>3</th>\n",
              "      <td>dre</td>\n",
              "      <td>27</td>\n",
              "    </tr>\n",
              "    <tr>\n",
              "      <th>4</th>\n",
              "      <td>urbeats</td>\n",
              "      <td>2</td>\n",
              "    </tr>\n",
              "  </tbody>\n",
              "</table>\n",
              "</div>"
            ],
            "text/plain": [
              "         0     1\n",
              "0    beats   108\n",
              "1       by  5036\n",
              "2       dr   144\n",
              "3      dre    27\n",
              "4  urbeats     2"
            ]
          },
          "metadata": {
            "tags": []
          },
          "execution_count": 5
        }
      ]
    },
    {
      "cell_type": "code",
      "metadata": {
        "colab": {
          "base_uri": "https://localhost:8080/",
          "height": 237
        },
        "id": "Verqe-4MKkFW",
        "outputId": "4f225438-303c-40c0-86a8-eb09962c067c"
      },
      "source": [
        "bigr.index.name = 'ID'\n",
        "bigr.columns = ['1', '2', 'freq']\n",
        "bigr.head()"
      ],
      "execution_count": 13,
      "outputs": [
        {
          "output_type": "execute_result",
          "data": {
            "text/html": [
              "<div>\n",
              "<style scoped>\n",
              "    .dataframe tbody tr th:only-of-type {\n",
              "        vertical-align: middle;\n",
              "    }\n",
              "\n",
              "    .dataframe tbody tr th {\n",
              "        vertical-align: top;\n",
              "    }\n",
              "\n",
              "    .dataframe thead th {\n",
              "        text-align: right;\n",
              "    }\n",
              "</style>\n",
              "<table border=\"1\" class=\"dataframe\">\n",
              "  <thead>\n",
              "    <tr style=\"text-align: right;\">\n",
              "      <th></th>\n",
              "      <th>1</th>\n",
              "      <th>2</th>\n",
              "      <th>freq</th>\n",
              "    </tr>\n",
              "    <tr>\n",
              "      <th>ID</th>\n",
              "      <th></th>\n",
              "      <th></th>\n",
              "      <th></th>\n",
              "    </tr>\n",
              "  </thead>\n",
              "  <tbody>\n",
              "    <tr>\n",
              "      <th>0</th>\n",
              "      <td>beats</td>\n",
              "      <td>by</td>\n",
              "      <td>25</td>\n",
              "    </tr>\n",
              "    <tr>\n",
              "      <th>1</th>\n",
              "      <td>by</td>\n",
              "      <td>dr</td>\n",
              "      <td>25</td>\n",
              "    </tr>\n",
              "    <tr>\n",
              "      <th>2</th>\n",
              "      <td>dr</td>\n",
              "      <td>dre</td>\n",
              "      <td>21</td>\n",
              "    </tr>\n",
              "    <tr>\n",
              "      <th>3</th>\n",
              "      <td>spam</td>\n",
              "      <td>4</td>\n",
              "      <td>4290</td>\n",
              "    </tr>\n",
              "    <tr>\n",
              "      <th>4</th>\n",
              "      <td>4</td>\n",
              "      <td>rt</td>\n",
              "      <td>5459</td>\n",
              "    </tr>\n",
              "  </tbody>\n",
              "</table>\n",
              "</div>"
            ],
            "text/plain": [
              "        1    2  freq\n",
              "ID                  \n",
              "0   beats   by    25\n",
              "1      by   dr    25\n",
              "2      dr  dre    21\n",
              "3    spam    4  4290\n",
              "4       4   rt  5459"
            ]
          },
          "metadata": {
            "tags": []
          },
          "execution_count": 13
        }
      ]
    },
    {
      "cell_type": "code",
      "metadata": {
        "colab": {
          "base_uri": "https://localhost:8080/",
          "height": 237
        },
        "id": "TxPPjTlNNXqv",
        "outputId": "d7dc49a7-349d-4e09-8483-2d48b0502546"
      },
      "source": [
        "unigr.index.name = 'ID'\n",
        "unigr.columns = ['1', 'freq']\n",
        "unigr.head()"
      ],
      "execution_count": 14,
      "outputs": [
        {
          "output_type": "execute_result",
          "data": {
            "text/html": [
              "<div>\n",
              "<style scoped>\n",
              "    .dataframe tbody tr th:only-of-type {\n",
              "        vertical-align: middle;\n",
              "    }\n",
              "\n",
              "    .dataframe tbody tr th {\n",
              "        vertical-align: top;\n",
              "    }\n",
              "\n",
              "    .dataframe thead th {\n",
              "        text-align: right;\n",
              "    }\n",
              "</style>\n",
              "<table border=\"1\" class=\"dataframe\">\n",
              "  <thead>\n",
              "    <tr style=\"text-align: right;\">\n",
              "      <th></th>\n",
              "      <th>1</th>\n",
              "      <th>freq</th>\n",
              "    </tr>\n",
              "    <tr>\n",
              "      <th>ID</th>\n",
              "      <th></th>\n",
              "      <th></th>\n",
              "    </tr>\n",
              "  </thead>\n",
              "  <tbody>\n",
              "    <tr>\n",
              "      <th>0</th>\n",
              "      <td>beats</td>\n",
              "      <td>108</td>\n",
              "    </tr>\n",
              "    <tr>\n",
              "      <th>1</th>\n",
              "      <td>by</td>\n",
              "      <td>5036</td>\n",
              "    </tr>\n",
              "    <tr>\n",
              "      <th>2</th>\n",
              "      <td>dr</td>\n",
              "      <td>144</td>\n",
              "    </tr>\n",
              "    <tr>\n",
              "      <th>3</th>\n",
              "      <td>dre</td>\n",
              "      <td>27</td>\n",
              "    </tr>\n",
              "    <tr>\n",
              "      <th>4</th>\n",
              "      <td>urbeats</td>\n",
              "      <td>2</td>\n",
              "    </tr>\n",
              "  </tbody>\n",
              "</table>\n",
              "</div>"
            ],
            "text/plain": [
              "          1  freq\n",
              "ID               \n",
              "0     beats   108\n",
              "1        by  5036\n",
              "2        dr   144\n",
              "3       dre    27\n",
              "4   urbeats     2"
            ]
          },
          "metadata": {
            "tags": []
          },
          "execution_count": 14
        }
      ]
    },
    {
      "cell_type": "code",
      "metadata": {
        "colab": {
          "base_uri": "https://localhost:8080/"
        },
        "id": "LOcT2eenKkOJ",
        "outputId": "ea9fb60a-696e-445e-fff7-702557160e20"
      },
      "source": [
        "bigr.freq.value_counts()"
      ],
      "execution_count": 15,
      "outputs": [
        {
          "output_type": "execute_result",
          "data": {
            "text/plain": [
              "4       12028\n",
              "5        7224\n",
              "6        5058\n",
              "7        3725\n",
              "8        2653\n",
              "        ...  \n",
              "332         1\n",
              "300         1\n",
              "268         1\n",
              "318         1\n",
              "1695        1\n",
              "Name: freq, Length: 471, dtype: int64"
            ]
          },
          "metadata": {
            "tags": []
          },
          "execution_count": 15
        }
      ]
    },
    {
      "cell_type": "code",
      "metadata": {
        "colab": {
          "base_uri": "https://localhost:8080/"
        },
        "id": "71dmSM-8NPuE",
        "outputId": "f51c212c-37ad-4650-bce2-10d0a6d9e2a9"
      },
      "source": [
        "unigr.freq.value_counts()"
      ],
      "execution_count": 16,
      "outputs": [
        {
          "output_type": "execute_result",
          "data": {
            "text/plain": [
              "2       16432\n",
              "3        6493\n",
              "4        3729\n",
              "5        2441\n",
              "6        1881\n",
              "        ...  \n",
              "557         1\n",
              "685         1\n",
              "749         1\n",
              "1037        1\n",
              "1215        1\n",
              "Name: freq, Length: 730, dtype: int64"
            ]
          },
          "metadata": {
            "tags": []
          },
          "execution_count": 16
        }
      ]
    },
    {
      "cell_type": "code",
      "metadata": {
        "id": "40k1Ya7gNPwU"
      },
      "source": [
        ""
      ],
      "execution_count": null,
      "outputs": []
    }
  ]
}