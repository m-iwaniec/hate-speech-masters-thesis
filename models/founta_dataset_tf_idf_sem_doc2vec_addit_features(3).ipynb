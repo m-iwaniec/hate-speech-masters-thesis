{
 "cells": [
  {
   "cell_type": "code",
   "execution_count": 1,
   "id": "013920ef",
   "metadata": {},
   "outputs": [
    {
     "name": "stdout",
     "output_type": "stream",
     "text": [
      "Requirement already satisfied: nltk in /opt/conda/lib/python3.7/site-packages (3.6.2)\n",
      "Requirement already satisfied: regex in /opt/conda/lib/python3.7/site-packages (from nltk) (2021.4.4)\n",
      "Requirement already satisfied: tqdm in /opt/conda/lib/python3.7/site-packages (from nltk) (4.60.0)\n",
      "Requirement already satisfied: click in /opt/conda/lib/python3.7/site-packages (from nltk) (7.1.2)\n",
      "Requirement already satisfied: joblib in /opt/conda/lib/python3.7/site-packages (from nltk) (1.0.1)\n"
     ]
    },
    {
     "name": "stderr",
     "output_type": "stream",
     "text": [
      "[nltk_data] Downloading package stopwords to\n",
      "[nltk_data]     /home/martyna6525/nltk_data...\n",
      "[nltk_data]   Package stopwords is already up-to-date!\n",
      "[nltk_data] Downloading package vader_lexicon to\n",
      "[nltk_data]     /home/martyna6525/nltk_data...\n",
      "[nltk_data]   Package vader_lexicon is already up-to-date!\n"
     ]
    },
    {
     "name": "stdout",
     "output_type": "stream",
     "text": [
      "Requirement already satisfied: gensim in /opt/conda/lib/python3.7/site-packages (4.0.1)\n",
      "Requirement already satisfied: scipy>=0.18.1 in /opt/conda/lib/python3.7/site-packages (from gensim) (1.6.3)\n",
      "Requirement already satisfied: smart-open>=1.8.1 in /opt/conda/lib/python3.7/site-packages (from gensim) (5.0.0)\n",
      "Requirement already satisfied: numpy>=1.11.3 in /opt/conda/lib/python3.7/site-packages (from gensim) (1.19.5)\n",
      "Requirement already satisfied: textstat in /opt/conda/lib/python3.7/site-packages (0.7.0)\n",
      "Requirement already satisfied: pyphen in /opt/conda/lib/python3.7/site-packages (from textstat) (0.10.0)\n"
     ]
    },
    {
     "name": "stderr",
     "output_type": "stream",
     "text": [
      "/opt/conda/lib/python3.7/site-packages/gensim/similarities/__init__.py:15: UserWarning: The gensim.similarities.levenshtein submodule is disabled, because the optional Levenshtein package <https://pypi.org/project/python-Levenshtein/> is unavailable. Install Levenhstein (e.g. `pip install python-Levenshtein`) to suppress this warning.\n",
      "  warnings.warn(msg)\n"
     ]
    }
   ],
   "source": [
    "import pandas as pd\n",
    "!pip install nltk\n",
    "import nltk\n",
    "nltk.download('stopwords')\n",
    "nltk.download('vader_lexicon')\n",
    "from nltk.corpus import stopwords\n",
    "from nltk.stem.porter import *\n",
    "import sys\n",
    "!pip install gensim\n",
    "from sklearn.feature_extraction.text import TfidfVectorizer\n",
    "import seaborn as sns\n",
    "import matplotlib.pyplot as plt\n",
    "%matplotlib inline\n",
    "!pip install textstat\n",
    "from textstat.textstat import *\n",
    "from sklearn.linear_model import LogisticRegression\n",
    "from sklearn.model_selection import train_test_split\n",
    "from sklearn.metrics import classification_report\n",
    "from sklearn.metrics import accuracy_score\n",
    "from sklearn.svm import LinearSVC\n",
    "from sklearn.ensemble import RandomForestClassifier\n",
    "from sklearn.naive_bayes import GaussianNB\n",
    "from gensim.models.doc2vec import Doc2Vec, TaggedDocument\n",
    "from sklearn.metrics import confusion_matrix\n",
    "import numpy as np\n",
    "from nltk.sentiment.vader import SentimentIntensityAnalyzer as VS\n",
    "import warnings\n",
    "warnings.simplefilter(action='ignore', category=FutureWarning)"
   ]
  },
  {
   "cell_type": "code",
   "execution_count": 2,
   "id": "134329ca",
   "metadata": {},
   "outputs": [
    {
     "name": "stderr",
     "output_type": "stream",
     "text": [
      "/opt/conda/lib/python3.7/site-packages/ipykernel_launcher.py:1: ParserWarning: Falling back to the 'python' engine because the 'c' engine does not support regex separators (separators > 1 char and different from '\\s+' are interpreted as regex); you can avoid this warning by specifying engine='python'.\n",
      "  \"\"\"Entry point for launching an IPython kernel.\n"
     ]
    },
    {
     "data": {
      "text/html": [
       "<div>\n",
       "<style scoped>\n",
       "    .dataframe tbody tr th:only-of-type {\n",
       "        vertical-align: middle;\n",
       "    }\n",
       "\n",
       "    .dataframe tbody tr th {\n",
       "        vertical-align: top;\n",
       "    }\n",
       "\n",
       "    .dataframe thead th {\n",
       "        text-align: right;\n",
       "    }\n",
       "</style>\n",
       "<table border=\"1\" class=\"dataframe\">\n",
       "  <thead>\n",
       "    <tr style=\"text-align: right;\">\n",
       "      <th></th>\n",
       "      <th>0</th>\n",
       "      <th>1</th>\n",
       "      <th>2</th>\n",
       "    </tr>\n",
       "  </thead>\n",
       "  <tbody>\n",
       "    <tr>\n",
       "      <th>0</th>\n",
       "      <td>Beats by Dr. Dre urBeats Wired In-Ear Headphon...</td>\n",
       "      <td>spam</td>\n",
       "      <td>4</td>\n",
       "    </tr>\n",
       "    <tr>\n",
       "      <th>1</th>\n",
       "      <td>RT @Papapishu: Man it would fucking rule if we...</td>\n",
       "      <td>abusive</td>\n",
       "      <td>4</td>\n",
       "    </tr>\n",
       "    <tr>\n",
       "      <th>2</th>\n",
       "      <td>It is time to draw close to Him &amp;#128591;&amp;#127...</td>\n",
       "      <td>normal</td>\n",
       "      <td>4</td>\n",
       "    </tr>\n",
       "    <tr>\n",
       "      <th>3</th>\n",
       "      <td>if you notice me start to act different or dis...</td>\n",
       "      <td>normal</td>\n",
       "      <td>5</td>\n",
       "    </tr>\n",
       "    <tr>\n",
       "      <th>4</th>\n",
       "      <td>Forget unfollowers, I believe in growing. 7 ne...</td>\n",
       "      <td>normal</td>\n",
       "      <td>3</td>\n",
       "    </tr>\n",
       "  </tbody>\n",
       "</table>\n",
       "</div>"
      ],
      "text/plain": [
       "                                                   0        1  2\n",
       "0  Beats by Dr. Dre urBeats Wired In-Ear Headphon...     spam  4\n",
       "1  RT @Papapishu: Man it would fucking rule if we...  abusive  4\n",
       "2  It is time to draw close to Him &#128591;&#127...   normal  4\n",
       "3  if you notice me start to act different or dis...   normal  5\n",
       "4  Forget unfollowers, I believe in growing. 7 ne...   normal  3"
      ]
     },
     "execution_count": 2,
     "metadata": {},
     "output_type": "execute_result"
    }
   ],
   "source": [
    "dataset = pd.read_csv('founta_dataset.csv', sep='\\\\t', header=None)\n",
    "dataset.head()"
   ]
  },
  {
   "cell_type": "code",
   "execution_count": 3,
   "id": "9bbb4b40",
   "metadata": {},
   "outputs": [
    {
     "data": {
      "text/html": [
       "<div>\n",
       "<style scoped>\n",
       "    .dataframe tbody tr th:only-of-type {\n",
       "        vertical-align: middle;\n",
       "    }\n",
       "\n",
       "    .dataframe tbody tr th {\n",
       "        vertical-align: top;\n",
       "    }\n",
       "\n",
       "    .dataframe thead th {\n",
       "        text-align: right;\n",
       "    }\n",
       "</style>\n",
       "<table border=\"1\" class=\"dataframe\">\n",
       "  <thead>\n",
       "    <tr style=\"text-align: right;\">\n",
       "      <th></th>\n",
       "      <th>text</th>\n",
       "      <th>label</th>\n",
       "      <th>votes</th>\n",
       "    </tr>\n",
       "    <tr>\n",
       "      <th>ID</th>\n",
       "      <th></th>\n",
       "      <th></th>\n",
       "      <th></th>\n",
       "    </tr>\n",
       "  </thead>\n",
       "  <tbody>\n",
       "    <tr>\n",
       "      <th>0</th>\n",
       "      <td>Beats by Dr. Dre urBeats Wired In-Ear Headphon...</td>\n",
       "      <td>spam</td>\n",
       "      <td>4</td>\n",
       "    </tr>\n",
       "    <tr>\n",
       "      <th>1</th>\n",
       "      <td>RT @Papapishu: Man it would fucking rule if we...</td>\n",
       "      <td>abusive</td>\n",
       "      <td>4</td>\n",
       "    </tr>\n",
       "    <tr>\n",
       "      <th>2</th>\n",
       "      <td>It is time to draw close to Him &amp;#128591;&amp;#127...</td>\n",
       "      <td>normal</td>\n",
       "      <td>4</td>\n",
       "    </tr>\n",
       "    <tr>\n",
       "      <th>3</th>\n",
       "      <td>if you notice me start to act different or dis...</td>\n",
       "      <td>normal</td>\n",
       "      <td>5</td>\n",
       "    </tr>\n",
       "    <tr>\n",
       "      <th>4</th>\n",
       "      <td>Forget unfollowers, I believe in growing. 7 ne...</td>\n",
       "      <td>normal</td>\n",
       "      <td>3</td>\n",
       "    </tr>\n",
       "  </tbody>\n",
       "</table>\n",
       "</div>"
      ],
      "text/plain": [
       "                                                 text    label  votes\n",
       "ID                                                                   \n",
       "0   Beats by Dr. Dre urBeats Wired In-Ear Headphon...     spam      4\n",
       "1   RT @Papapishu: Man it would fucking rule if we...  abusive      4\n",
       "2   It is time to draw close to Him &#128591;&#127...   normal      4\n",
       "3   if you notice me start to act different or dis...   normal      5\n",
       "4   Forget unfollowers, I believe in growing. 7 ne...   normal      3"
      ]
     },
     "execution_count": 3,
     "metadata": {},
     "output_type": "execute_result"
    }
   ],
   "source": [
    "dataset.index.name = 'ID'\n",
    "dataset.columns = ['text', 'label', 'votes']\n",
    "dataset.head()"
   ]
  },
  {
   "cell_type": "code",
   "execution_count": 4,
   "id": "6526de61",
   "metadata": {},
   "outputs": [],
   "source": [
    "text = dataset.text"
   ]
  },
  {
   "cell_type": "code",
   "execution_count": 5,
   "id": "4b030f67",
   "metadata": {},
   "outputs": [
    {
     "name": "stdout",
     "output_type": "stream",
     "text": [
      "                                                 text  \\\n",
      "ID                                                      \n",
      "0   Beats by Dr. Dre urBeats Wired In-Ear Headphon...   \n",
      "1   RT @Papapishu: Man it would fucking rule if we...   \n",
      "2   It is time to draw close to Him &#128591;&#127...   \n",
      "3   if you notice me start to act different or dis...   \n",
      "4   Forget unfollowers, I believe in growing. 7 ne...   \n",
      "5   RT @Vitiligoprince: Hate Being sexually Frustr...   \n",
      "6   Topped the group in TGP Disc Jam Season 2! Ont...   \n",
      "7   That daily baby aspirin for your #heart just m...   \n",
      "8   I liked a @YouTube video from @mattshea https:...   \n",
      "9   RT @LestuhGang_: If your fucking up &amp; your...   \n",
      "\n",
      "                                       processed_text  \n",
      "ID                                                     \n",
      "0          beat dr dre urbeat wire ear headphon white  \n",
      "1   papapishu man would fuck rule parti perpetu wa...  \n",
      "2              time draw close father draw near alway  \n",
      "3   notic start act differ distant bc peep someth ...  \n",
      "4   forget unfollow believ grow new follow last da...  \n",
      "5   vitiligoprinc hate sexual frustrat like wanna ...  \n",
      "6   top group tgp disc jam season onto semi final ...  \n",
      "7   daili babi aspirin heart might prevent colon c...  \n",
      "8   like youtub video mattshea blue armi come anci...  \n",
      "9        lestuhgang fuck amp homi dont tell fuck homi  \n"
     ]
    }
   ],
   "source": [
    "## 1. Removal of punctuation and capitlization\n",
    "## 2. Tokenizing\n",
    "## 3. Removal of stopwords\n",
    "## 4. Stemming\n",
    "\n",
    "stopwords = nltk.corpus.stopwords.words(\"english\")\n",
    "\n",
    "#extending the stopwords to include other words used in twitter such as retweet(rt) etc.\n",
    "other_exclusions = [\"#ff\", \"ff\", \"rt\"]\n",
    "stopwords.extend(other_exclusions)\n",
    "stemmer = PorterStemmer()\n",
    "\n",
    "def preprocess(text):  \n",
    "    \n",
    "    # removal of extra spaces\n",
    "    regex_pat = re.compile(r'\\s+')\n",
    "    text_space = text.str.replace(regex_pat, ' ')\n",
    "\n",
    "    # removal of @name[mention]\n",
    "    regex_pat = re.compile(r'@[\\w\\-]+')\n",
    "    text_name = text_space.str.replace(regex_pat, '')\n",
    "\n",
    "    # removal of links[https://abc.com]\n",
    "    giant_url_regex =  re.compile('http[s]?://(?:[a-zA-Z]|[0-9]|[$-_@.&+]|'\n",
    "            '[!*\\(\\),]|(?:%[0-9a-fA-F][0-9a-fA-F]))+')\n",
    "    text = text.str.replace(giant_url_regex, '')\n",
    "    \n",
    "    # removal of punctuations and numbers\n",
    "    punc_remove = text.str.replace(\"[^a-zA-Z]\", \" \")\n",
    "    # remove whitespace with a single space\n",
    "    newtext=punc_remove.str.replace(r'\\s+', ' ')\n",
    "    # remove leading and trailing whitespace\n",
    "    newtext=newtext.str.replace(r'^\\s+|\\s+?$','')\n",
    "    # replace normal numbers with numbr\n",
    "    newtext=newtext.str.replace(r'\\d+(\\.\\d+)?','numbr')\n",
    "    # removal of capitalization\n",
    "    text_lower = newtext.str.lower()\n",
    "    \n",
    "    # tokenizing\n",
    "    tokenized_text = text_lower.apply(lambda x: x.split())\n",
    "    \n",
    "    # removal of stopwords\n",
    "    tokenized_text=  tokenized_text.apply(lambda x: [item for item in x if item not in stopwords])\n",
    "    \n",
    "    # stemming of the text\n",
    "    tokenized_text = tokenized_text.apply(lambda x: [stemmer.stem(i) for i in x]) \n",
    "    \n",
    "    for i in range(len(tokenized_text)):\n",
    "        tokenized_text[i] = ' '.join(tokenized_text[i])\n",
    "        text_p= tokenized_text\n",
    "    \n",
    "    return text_p\n",
    "\n",
    "processed_text = preprocess(text)   \n",
    "\n",
    "dataset['processed_text'] = processed_text\n",
    "print(dataset[[\"text\",\"processed_text\"]].head(10))"
   ]
  },
  {
   "cell_type": "code",
   "execution_count": 6,
   "id": "44ab20c8",
   "metadata": {},
   "outputs": [
    {
     "data": {
      "text/plain": [
       "<99996x10000 sparse matrix of type '<class 'numpy.float64'>'\n",
       "\twith 863273 stored elements in Compressed Sparse Row format>"
      ]
     },
     "execution_count": 6,
     "metadata": {},
     "output_type": "execute_result"
    }
   ],
   "source": [
    "#TF-IDF Features-F1\n",
    "# https://scikit-learn.org/stable/modules/generated/sklearn.feature_extraction.text.TfidfVectorizer.html\n",
    "tfidf_vectorizer = TfidfVectorizer(ngram_range=(1, 2),max_df=0.75, min_df=5, max_features=10000)\n",
    "\n",
    "# TF-IDF feature matrix\n",
    "tfidf = tfidf_vectorizer.fit_transform(dataset['processed_text'] )\n",
    "tfidf"
   ]
  },
  {
   "cell_type": "code",
   "execution_count": 7,
   "id": "bda263b9",
   "metadata": {},
   "outputs": [],
   "source": [
    "# If you don't specify the random_state in the code, \n",
    "# then every time you run(execute) your code a new random value is generated \n",
    "# and the train and test datasets would have different values each time.\n",
    "X = tfidf\n",
    "y = dataset['label']"
   ]
  },
  {
   "cell_type": "code",
   "execution_count": 8,
   "id": "021b9133",
   "metadata": {},
   "outputs": [
    {
     "data": {
      "text/html": [
       "<div>\n",
       "<style scoped>\n",
       "    .dataframe tbody tr th:only-of-type {\n",
       "        vertical-align: middle;\n",
       "    }\n",
       "\n",
       "    .dataframe tbody tr th {\n",
       "        vertical-align: top;\n",
       "    }\n",
       "\n",
       "    .dataframe thead th {\n",
       "        text-align: right;\n",
       "    }\n",
       "</style>\n",
       "<table border=\"1\" class=\"dataframe\">\n",
       "  <thead>\n",
       "    <tr style=\"text-align: right;\">\n",
       "      <th></th>\n",
       "      <th>Neg</th>\n",
       "      <th>Pos</th>\n",
       "      <th>Neu</th>\n",
       "      <th>Compound</th>\n",
       "      <th>url_tag</th>\n",
       "      <th>mention_tag</th>\n",
       "      <th>hash_tag</th>\n",
       "    </tr>\n",
       "  </thead>\n",
       "  <tbody>\n",
       "    <tr>\n",
       "      <th>0</th>\n",
       "      <td>0.000</td>\n",
       "      <td>0.000</td>\n",
       "      <td>1.000</td>\n",
       "      <td>0.0000</td>\n",
       "      <td>2.0</td>\n",
       "      <td>0.0</td>\n",
       "      <td>0.0</td>\n",
       "    </tr>\n",
       "    <tr>\n",
       "      <th>1</th>\n",
       "      <td>0.116</td>\n",
       "      <td>0.143</td>\n",
       "      <td>0.741</td>\n",
       "      <td>0.1280</td>\n",
       "      <td>0.0</td>\n",
       "      <td>1.0</td>\n",
       "      <td>0.0</td>\n",
       "    </tr>\n",
       "    <tr>\n",
       "      <th>2</th>\n",
       "      <td>0.000</td>\n",
       "      <td>0.000</td>\n",
       "      <td>1.000</td>\n",
       "      <td>0.0000</td>\n",
       "      <td>1.0</td>\n",
       "      <td>0.0</td>\n",
       "      <td>2.0</td>\n",
       "    </tr>\n",
       "    <tr>\n",
       "      <th>3</th>\n",
       "      <td>0.000</td>\n",
       "      <td>0.000</td>\n",
       "      <td>1.000</td>\n",
       "      <td>0.0000</td>\n",
       "      <td>0.0</td>\n",
       "      <td>0.0</td>\n",
       "      <td>0.0</td>\n",
       "    </tr>\n",
       "    <tr>\n",
       "      <th>4</th>\n",
       "      <td>0.138</td>\n",
       "      <td>0.107</td>\n",
       "      <td>0.755</td>\n",
       "      <td>-0.1260</td>\n",
       "      <td>1.0</td>\n",
       "      <td>0.0</td>\n",
       "      <td>0.0</td>\n",
       "    </tr>\n",
       "    <tr>\n",
       "      <th>...</th>\n",
       "      <td>...</td>\n",
       "      <td>...</td>\n",
       "      <td>...</td>\n",
       "      <td>...</td>\n",
       "      <td>...</td>\n",
       "      <td>...</td>\n",
       "      <td>...</td>\n",
       "    </tr>\n",
       "    <tr>\n",
       "      <th>99991</th>\n",
       "      <td>0.000</td>\n",
       "      <td>0.000</td>\n",
       "      <td>1.000</td>\n",
       "      <td>0.0000</td>\n",
       "      <td>1.0</td>\n",
       "      <td>1.0</td>\n",
       "      <td>0.0</td>\n",
       "    </tr>\n",
       "    <tr>\n",
       "      <th>99992</th>\n",
       "      <td>0.000</td>\n",
       "      <td>0.000</td>\n",
       "      <td>1.000</td>\n",
       "      <td>0.0000</td>\n",
       "      <td>2.0</td>\n",
       "      <td>0.0</td>\n",
       "      <td>3.0</td>\n",
       "    </tr>\n",
       "    <tr>\n",
       "      <th>99993</th>\n",
       "      <td>0.405</td>\n",
       "      <td>0.000</td>\n",
       "      <td>0.595</td>\n",
       "      <td>-0.9430</td>\n",
       "      <td>0.0</td>\n",
       "      <td>1.0</td>\n",
       "      <td>4.0</td>\n",
       "    </tr>\n",
       "    <tr>\n",
       "      <th>99994</th>\n",
       "      <td>0.000</td>\n",
       "      <td>0.000</td>\n",
       "      <td>1.000</td>\n",
       "      <td>0.0000</td>\n",
       "      <td>2.0</td>\n",
       "      <td>0.0</td>\n",
       "      <td>3.0</td>\n",
       "    </tr>\n",
       "    <tr>\n",
       "      <th>99995</th>\n",
       "      <td>0.000</td>\n",
       "      <td>0.079</td>\n",
       "      <td>0.921</td>\n",
       "      <td>0.3612</td>\n",
       "      <td>0.0</td>\n",
       "      <td>0.0</td>\n",
       "      <td>0.0</td>\n",
       "    </tr>\n",
       "  </tbody>\n",
       "</table>\n",
       "<p>99996 rows × 7 columns</p>\n",
       "</div>"
      ],
      "text/plain": [
       "         Neg    Pos    Neu  Compound  url_tag  mention_tag  hash_tag\n",
       "0      0.000  0.000  1.000    0.0000      2.0          0.0       0.0\n",
       "1      0.116  0.143  0.741    0.1280      0.0          1.0       0.0\n",
       "2      0.000  0.000  1.000    0.0000      1.0          0.0       2.0\n",
       "3      0.000  0.000  1.000    0.0000      0.0          0.0       0.0\n",
       "4      0.138  0.107  0.755   -0.1260      1.0          0.0       0.0\n",
       "...      ...    ...    ...       ...      ...          ...       ...\n",
       "99991  0.000  0.000  1.000    0.0000      1.0          1.0       0.0\n",
       "99992  0.000  0.000  1.000    0.0000      2.0          0.0       3.0\n",
       "99993  0.405  0.000  0.595   -0.9430      0.0          1.0       4.0\n",
       "99994  0.000  0.000  1.000    0.0000      2.0          0.0       3.0\n",
       "99995  0.000  0.079  0.921    0.3612      0.0          0.0       0.0\n",
       "\n",
       "[99996 rows x 7 columns]"
      ]
     },
     "execution_count": 8,
     "metadata": {},
     "output_type": "execute_result"
    }
   ],
   "source": [
    "sentiment_analyzer = VS()\n",
    "def count_tags(text_c):  \n",
    "    \n",
    "    space_pattern = '\\s+'\n",
    "    giant_url_regex = ('http[s]?://(?:[a-zA-Z]|[0-9]|[$-_@.&+]|'\n",
    "        '[!*\\(\\),]|(?:%[0-9a-fA-F][0-9a-fA-F]))+')\n",
    "    mention_regex = '@[\\w\\-]+'\n",
    "    hashtag_regex = '#[\\w\\-]+'\n",
    "    parsed_text = re.sub(space_pattern, ' ', text_c)\n",
    "    parsed_text = re.sub(giant_url_regex, 'URLHERE', parsed_text)\n",
    "    parsed_text = re.sub(mention_regex, 'MENTIONHERE', parsed_text)\n",
    "    parsed_text = re.sub(hashtag_regex, 'HASHTAGHERE', parsed_text)\n",
    "    return(parsed_text.count('URLHERE'),parsed_text.count('MENTIONHERE'),parsed_text.count('HASHTAGHERE'))\n",
    "\n",
    "def sentiment_analysis(text):   \n",
    "    sentiment = sentiment_analyzer.polarity_scores(text)    \n",
    "    twitter_objs = count_tags(text)\n",
    "    features = [sentiment['neg'], sentiment['pos'], sentiment['neu'], sentiment['compound'],twitter_objs[0], twitter_objs[1],\n",
    "                twitter_objs[2]]\n",
    "    #features = pd.DataFrame(features)\n",
    "    return features\n",
    "\n",
    "def sentiment_analysis_array(texts):\n",
    "    features=[]\n",
    "    for t in texts:\n",
    "        features.append(sentiment_analysis(t))\n",
    "    return np.array(features)\n",
    "\n",
    "final_features = sentiment_analysis_array(text)\n",
    "#final_features\n",
    "\n",
    "new_features = pd.DataFrame({'Neg':final_features[:,0],'Pos':final_features[:,1],'Neu':final_features[:,2],'Compound':final_features[:,3],\n",
    "                            'url_tag':final_features[:,4],'mention_tag':final_features[:,5],'hash_tag':final_features[:,6]})\n",
    "new_features"
   ]
  },
  {
   "cell_type": "code",
   "execution_count": 9,
   "id": "ac102a17",
   "metadata": {},
   "outputs": [
    {
     "data": {
      "text/plain": [
       "(99996, 10007)"
      ]
     },
     "execution_count": 9,
     "metadata": {},
     "output_type": "execute_result"
    }
   ],
   "source": [
    "# F2-Conctaenation of tf-idf scores and sentiment scores\n",
    "tfidf_a = tfidf.toarray()\n",
    "modelling_features = np.concatenate([tfidf_a,final_features],axis=1)\n",
    "modelling_features.shape"
   ]
  },
  {
   "cell_type": "code",
   "execution_count": 10,
   "id": "bd5db9d5",
   "metadata": {},
   "outputs": [
    {
     "data": {
      "text/html": [
       "<div>\n",
       "<style scoped>\n",
       "    .dataframe tbody tr th:only-of-type {\n",
       "        vertical-align: middle;\n",
       "    }\n",
       "\n",
       "    .dataframe tbody tr th {\n",
       "        vertical-align: top;\n",
       "    }\n",
       "\n",
       "    .dataframe thead th {\n",
       "        text-align: right;\n",
       "    }\n",
       "</style>\n",
       "<table border=\"1\" class=\"dataframe\">\n",
       "  <thead>\n",
       "    <tr style=\"text-align: right;\">\n",
       "      <th></th>\n",
       "      <th>doc2vec_vector_0</th>\n",
       "      <th>doc2vec_vector_1</th>\n",
       "      <th>doc2vec_vector_2</th>\n",
       "      <th>doc2vec_vector_3</th>\n",
       "      <th>doc2vec_vector_4</th>\n",
       "    </tr>\n",
       "    <tr>\n",
       "      <th>ID</th>\n",
       "      <th></th>\n",
       "      <th></th>\n",
       "      <th></th>\n",
       "      <th></th>\n",
       "      <th></th>\n",
       "    </tr>\n",
       "  </thead>\n",
       "  <tbody>\n",
       "    <tr>\n",
       "      <th>0</th>\n",
       "      <td>0.021967</td>\n",
       "      <td>0.315221</td>\n",
       "      <td>0.210749</td>\n",
       "      <td>0.145455</td>\n",
       "      <td>-0.138369</td>\n",
       "    </tr>\n",
       "    <tr>\n",
       "      <th>1</th>\n",
       "      <td>-0.041651</td>\n",
       "      <td>0.225241</td>\n",
       "      <td>0.138285</td>\n",
       "      <td>-0.052494</td>\n",
       "      <td>-0.212296</td>\n",
       "    </tr>\n",
       "    <tr>\n",
       "      <th>2</th>\n",
       "      <td>0.014620</td>\n",
       "      <td>-0.180320</td>\n",
       "      <td>0.120305</td>\n",
       "      <td>-0.055281</td>\n",
       "      <td>-0.024598</td>\n",
       "    </tr>\n",
       "    <tr>\n",
       "      <th>3</th>\n",
       "      <td>0.331773</td>\n",
       "      <td>-0.095723</td>\n",
       "      <td>0.039548</td>\n",
       "      <td>-0.158769</td>\n",
       "      <td>-0.103429</td>\n",
       "    </tr>\n",
       "    <tr>\n",
       "      <th>4</th>\n",
       "      <td>-0.265163</td>\n",
       "      <td>-0.330210</td>\n",
       "      <td>0.113195</td>\n",
       "      <td>-0.154832</td>\n",
       "      <td>0.121417</td>\n",
       "    </tr>\n",
       "    <tr>\n",
       "      <th>...</th>\n",
       "      <td>...</td>\n",
       "      <td>...</td>\n",
       "      <td>...</td>\n",
       "      <td>...</td>\n",
       "      <td>...</td>\n",
       "    </tr>\n",
       "    <tr>\n",
       "      <th>99991</th>\n",
       "      <td>-0.040838</td>\n",
       "      <td>0.177483</td>\n",
       "      <td>0.147801</td>\n",
       "      <td>0.124267</td>\n",
       "      <td>0.000862</td>\n",
       "    </tr>\n",
       "    <tr>\n",
       "      <th>99992</th>\n",
       "      <td>0.055456</td>\n",
       "      <td>0.160762</td>\n",
       "      <td>0.046047</td>\n",
       "      <td>0.027916</td>\n",
       "      <td>-0.068698</td>\n",
       "    </tr>\n",
       "    <tr>\n",
       "      <th>99993</th>\n",
       "      <td>0.261951</td>\n",
       "      <td>-0.029443</td>\n",
       "      <td>-0.273323</td>\n",
       "      <td>-0.048806</td>\n",
       "      <td>0.097009</td>\n",
       "    </tr>\n",
       "    <tr>\n",
       "      <th>99994</th>\n",
       "      <td>-0.178579</td>\n",
       "      <td>0.128720</td>\n",
       "      <td>-0.062965</td>\n",
       "      <td>-0.200145</td>\n",
       "      <td>0.108898</td>\n",
       "    </tr>\n",
       "    <tr>\n",
       "      <th>99995</th>\n",
       "      <td>0.093349</td>\n",
       "      <td>-0.124877</td>\n",
       "      <td>0.079653</td>\n",
       "      <td>-0.268145</td>\n",
       "      <td>-0.154850</td>\n",
       "    </tr>\n",
       "  </tbody>\n",
       "</table>\n",
       "<p>99996 rows × 5 columns</p>\n",
       "</div>"
      ],
      "text/plain": [
       "       doc2vec_vector_0  doc2vec_vector_1  doc2vec_vector_2  doc2vec_vector_3  \\\n",
       "ID                                                                              \n",
       "0              0.021967          0.315221          0.210749          0.145455   \n",
       "1             -0.041651          0.225241          0.138285         -0.052494   \n",
       "2              0.014620         -0.180320          0.120305         -0.055281   \n",
       "3              0.331773         -0.095723          0.039548         -0.158769   \n",
       "4             -0.265163         -0.330210          0.113195         -0.154832   \n",
       "...                 ...               ...               ...               ...   \n",
       "99991         -0.040838          0.177483          0.147801          0.124267   \n",
       "99992          0.055456          0.160762          0.046047          0.027916   \n",
       "99993          0.261951         -0.029443         -0.273323         -0.048806   \n",
       "99994         -0.178579          0.128720         -0.062965         -0.200145   \n",
       "99995          0.093349         -0.124877          0.079653         -0.268145   \n",
       "\n",
       "       doc2vec_vector_4  \n",
       "ID                       \n",
       "0             -0.138369  \n",
       "1             -0.212296  \n",
       "2             -0.024598  \n",
       "3             -0.103429  \n",
       "4              0.121417  \n",
       "...                 ...  \n",
       "99991          0.000862  \n",
       "99992         -0.068698  \n",
       "99993          0.097009  \n",
       "99994          0.108898  \n",
       "99995         -0.154850  \n",
       "\n",
       "[99996 rows x 5 columns]"
      ]
     },
     "execution_count": 10,
     "metadata": {},
     "output_type": "execute_result"
    }
   ],
   "source": [
    "# create doc2vec vector columns\n",
    "# Initialize and train the model\n",
    "from gensim.test.utils import common_texts\n",
    "from gensim.models.doc2vec import Doc2Vec, TaggedDocument\n",
    "#The input for a Doc2Vec model should be a list of TaggedDocument(['list','of','word'], [TAG_001]). \n",
    "#A good practice is using the indexes of sentences as the tags.\n",
    "documents = [TaggedDocument(doc, [i]) for i, doc in enumerate(dataset[\"processed_text\"].apply(lambda x: x.split(\" \")))]\n",
    "\n",
    "# train a Doc2Vec model with our text data\n",
    "# window- The maximum distance between the current and predicted word within a sentence.\n",
    "# mincount-Ignores all words with total frequency lower than this.\n",
    "# workers -Use these many worker threads to train the model\n",
    "#  Training Model - distributed bag of words (PV-DBOW) is employed.\n",
    "model = Doc2Vec(documents, vector_size=5, window=2, min_count=1, workers=4)\n",
    "\n",
    "#infer_vector - Infer a vector for given post-bulk training document.\n",
    "# Syntax- infer_vector(doc_words, alpha=None, min_alpha=None, epochs=None, steps=None)\n",
    "# doc_words-A document for which the vector representation will be inferred.\n",
    "\n",
    "# transform each document into a vector data\n",
    "doc2vec_df = dataset[\"processed_text\"].apply(lambda x: model.infer_vector(x.split(\" \"))).apply(pd.Series)\n",
    "doc2vec_df.columns = [\"doc2vec_vector_\" + str(x) for x in doc2vec_df.columns]\n",
    "doc2vec_df"
   ]
  },
  {
   "cell_type": "code",
   "execution_count": 11,
   "id": "d135711b",
   "metadata": {},
   "outputs": [
    {
     "data": {
      "text/plain": [
       "(99996, 10012)"
      ]
     },
     "execution_count": 11,
     "metadata": {},
     "output_type": "execute_result"
    }
   ],
   "source": [
    "# conctaenation of tf-idf scores, sentiment scores and doc2vec columns\n",
    "modelling_features = np.concatenate([tfidf_a,final_features,doc2vec_df],axis=1)\n",
    "modelling_features.shape"
   ]
  },
  {
   "cell_type": "code",
   "execution_count": 12,
   "id": "5334d380",
   "metadata": {},
   "outputs": [],
   "source": [
    "#Using TFIDF with sentiment scores,doc2vec and enhanced features\n",
    "def additional_features(text): \n",
    "    \n",
    "    syllables = textstat.syllable_count(text)\n",
    "    num_chars = sum(len(w) for w in text)\n",
    "    num_chars_total = len(text)\n",
    "    num_words = len(text.split())\n",
    "    # avg_syl = total syllables/ total words\n",
    "    avg_syl = round(float((syllables+0.001))/float(num_words+0.001),4)\n",
    "    num_unique_terms = len(set(text.split()))\n",
    "    \n",
    "    #  Flesch–Kincaid readability tests are readability tests \n",
    "    ###Modified FK grade, where avg words per sentence is : just num words/1\n",
    "    FKRA = round(float(0.39 * float(num_words)/1.0) + float(11.8 * avg_syl) - 15.59,1)\n",
    "    ##Modified FRE score, where sentence fixed to 1\n",
    "    FRE = round(206.835 - 1.015*(float(num_words)/1.0) - (84.6*float(avg_syl)),2)\n",
    "    \n",
    "    add_features = [FKRA, FRE,syllables, avg_syl, num_chars, num_chars_total, num_words,\n",
    "                num_unique_terms]\n",
    "    return add_features\n",
    "\n",
    "def get_additonal_feature_array(texts):\n",
    "    features = []\n",
    "    for t in texts:\n",
    "        features.append(additional_features(t))\n",
    "    return np.array(features)\n",
    "\n",
    "fFeatures = get_additonal_feature_array(processed_text)"
   ]
  },
  {
   "cell_type": "code",
   "execution_count": 13,
   "id": "8a0c3401",
   "metadata": {},
   "outputs": [
    {
     "data": {
      "text/plain": [
       "(99996, 10020)"
      ]
     },
     "execution_count": 13,
     "metadata": {},
     "output_type": "execute_result"
    }
   ],
   "source": [
    "tfidf_a = tfidf.toarray()\n",
    "modelling_features_enhanced = np.concatenate([tfidf_a,final_features,doc2vec_df,fFeatures],axis=1)\n",
    "modelling_features_enhanced.shape"
   ]
  },
  {
   "cell_type": "code",
   "execution_count": 14,
   "id": "491ed29f",
   "metadata": {},
   "outputs": [
    {
     "name": "stderr",
     "output_type": "stream",
     "text": [
      "/opt/conda/lib/python3.7/site-packages/sklearn/linear_model/_logistic.py:765: ConvergenceWarning: lbfgs failed to converge (status=1):\n",
      "STOP: TOTAL NO. of ITERATIONS REACHED LIMIT.\n",
      "\n",
      "Increase the number of iterations (max_iter) or scale the data as shown in:\n",
      "    https://scikit-learn.org/stable/modules/preprocessing.html\n",
      "Please also refer to the documentation for alternative solver options:\n",
      "    https://scikit-learn.org/stable/modules/linear_model.html#logistic-regression\n",
      "  extra_warning_msg=_LOGISTIC_SOLVER_CONVERGENCE_MSG)\n",
      "/opt/conda/lib/python3.7/site-packages/sklearn/metrics/_classification.py:1248: UndefinedMetricWarning: Precision and F-score are ill-defined and being set to 0.0 in labels with no predicted samples. Use `zero_division` parameter to control this behavior.\n",
      "  _warn_prf(average, modifier, msg_start, len(result))\n"
     ]
    },
    {
     "name": "stdout",
     "output_type": "stream",
     "text": [
      "              precision    recall  f1-score   support\n",
      "\n",
      "     abusive       0.71      0.70      0.71      5497\n",
      "     hateful       0.00      0.00      0.00      1000\n",
      "      normal       0.70      0.84      0.76     10711\n",
      "        spam       0.46      0.27      0.34      2792\n",
      "\n",
      "    accuracy                           0.68     20000\n",
      "   macro avg       0.47      0.45      0.45     20000\n",
      "weighted avg       0.63      0.68      0.65     20000\n",
      "\n",
      "Logistic Regression, Accuracy Score: 0.68265\n"
     ]
    },
    {
     "name": "stderr",
     "output_type": "stream",
     "text": [
      "/opt/conda/lib/python3.7/site-packages/sklearn/metrics/_classification.py:1248: UndefinedMetricWarning: Precision and F-score are ill-defined and being set to 0.0 in labels with no predicted samples. Use `zero_division` parameter to control this behavior.\n",
      "  _warn_prf(average, modifier, msg_start, len(result))\n",
      "/opt/conda/lib/python3.7/site-packages/sklearn/metrics/_classification.py:1248: UndefinedMetricWarning: Precision and F-score are ill-defined and being set to 0.0 in labels with no predicted samples. Use `zero_division` parameter to control this behavior.\n",
      "  _warn_prf(average, modifier, msg_start, len(result))\n"
     ]
    }
   ],
   "source": [
    "# Running the model Using TFIDF with enhanced features\n",
    "\n",
    "X = pd.DataFrame(modelling_features_enhanced)\n",
    "y = dataset['label']\n",
    "X_train_features, X_test_features, y_train, y_test = train_test_split(X, y, random_state=0, test_size=0.2)\n",
    "\n",
    "model = LogisticRegression().fit(X_train_features,y_train)\n",
    "y_preds = model.predict(X_test_features)\n",
    "report = classification_report(y_test, y_preds)\n",
    "print(report)\n",
    "acc = accuracy_score(y_test,y_preds)\n",
    "print(\"Logistic Regression, Accuracy Score:\" , acc)"
   ]
  },
  {
   "cell_type": "code",
   "execution_count": 15,
   "id": "2ece1789",
   "metadata": {},
   "outputs": [
    {
     "name": "stdout",
     "output_type": "stream",
     "text": [
      "Accuracy =  68.265\n"
     ]
    }
   ],
   "source": [
    "from sklearn import metrics\n",
    "cm = metrics.confusion_matrix(y_test, y_preds)\n",
    "print(\"Accuracy = \",metrics.accuracy_score(y_test, y_preds)*100)"
   ]
  },
  {
   "cell_type": "code",
   "execution_count": 16,
   "id": "d7205794",
   "metadata": {},
   "outputs": [
    {
     "name": "stdout",
     "output_type": "stream",
     "text": [
      "Predicted Class: ['abusive' 'normal' 'spam' 'abusive' 'abusive' 'normal' 'abusive' 'normal'\n",
      " 'normal' 'normal']\n",
      "Actual Class: ['abusive', 'abusive', 'spam', 'abusive', 'abusive', 'abusive', 'abusive', 'abusive', 'normal', 'normal']\n"
     ]
    }
   ],
   "source": [
    "testing_index=list(X_test_features.index[0:10])\n",
    "#print(testing_index)\n",
    "print(\"Predicted Class:\",y_preds[0:10])\n",
    "print(\"Actual Class:\",y_test.tolist()[0:10])"
   ]
  },
  {
   "cell_type": "code",
   "execution_count": 17,
   "id": "14ecbb09",
   "metadata": {},
   "outputs": [
    {
     "data": {
      "text/plain": [
       "Text(0, 0.5, 'Count')"
      ]
     },
     "execution_count": 17,
     "metadata": {},
     "output_type": "execute_result"
    },
    {
     "data": {
      "image/png": "[encoded data removed]",
      "text/plain": [
       "<Figure size 432x288 with 1 Axes>"
      ]
     },
     "metadata": {
      "needs_background": "light"
     },
     "output_type": "display_data"
    }
   ],
   "source": [
    "# Histogram presenting the count of different classes- Actual\n",
    "ax=y_test.hist()\n",
    "ax.set_xlabel(\"Class\", labelpad=20, weight='bold', size=12)\n",
    "ax.set_ylabel(\"Count\", labelpad=20, weight='bold', size=12)"
   ]
  },
  {
   "cell_type": "code",
   "execution_count": 18,
   "id": "86146727",
   "metadata": {},
   "outputs": [
    {
     "data": {
      "text/plain": [
       "Text(0, 0.5, 'Count')"
      ]
     },
     "execution_count": 18,
     "metadata": {},
     "output_type": "execute_result"
    },
    {
     "data": {
      "image/png": "[encoded data removed]",
      "text/plain": [
       "<Figure size 432x288 with 1 Axes>"
      ]
     },
     "metadata": {
      "needs_background": "light"
     },
     "output_type": "display_data"
    }
   ],
   "source": [
    "# Histogram presenting the count of different classes- Predicted\n",
    "ax = pd.Series(y_preds).hist()\n",
    "ax.set_xlabel(\"Class\", labelpad=20, weight='bold', size=12)\n",
    "ax.set_ylabel(\"Count\", labelpad=20, weight='bold', size=12)"
   ]
  },
  {
   "cell_type": "code",
   "execution_count": 19,
   "id": "b222ef23",
   "metadata": {},
   "outputs": [
    {
     "name": "stdout",
     "output_type": "stream",
     "text": [
      "              precision    recall  f1-score   support\n",
      "\n",
      "     abusive       0.84      0.90      0.87      5497\n",
      "     hateful       0.65      0.16      0.26      1000\n",
      "      normal       0.78      0.94      0.85     10711\n",
      "        spam       0.64      0.20      0.30      2792\n",
      "\n",
      "    accuracy                           0.79     20000\n",
      "   macro avg       0.73      0.55      0.57     20000\n",
      "weighted avg       0.77      0.79      0.75     20000\n",
      "\n",
      "Random Forest, Accuracy Score: 0.7887\n"
     ]
    }
   ],
   "source": [
    "X = pd.DataFrame(modelling_features_enhanced)\n",
    "y = dataset['label']\n",
    "X_train_features, X_test_features, y_train, y_test = train_test_split(X, y, random_state=0, test_size=0.2)\n",
    "rf = RandomForestClassifier()\n",
    "rf.fit(X_train_features,y_train)\n",
    "y_preds = rf.predict(X_test_features)\n",
    "acc1 = accuracy_score(y_test,y_preds)\n",
    "report = classification_report(y_test, y_preds)\n",
    "print(report)\n",
    "print(\"Random Forest, Accuracy Score:\", acc1)"
   ]
  },
  {
   "cell_type": "code",
   "execution_count": 20,
   "id": "70ead838",
   "metadata": {},
   "outputs": [
    {
     "name": "stdout",
     "output_type": "stream",
     "text": [
      "              precision    recall  f1-score   support\n",
      "\n",
      "     abusive       0.70      0.45      0.55      5497\n",
      "     hateful       0.09      0.61      0.16      1000\n",
      "      normal       0.80      0.31      0.44     10711\n",
      "        spam       0.32      0.67      0.44      2792\n",
      "\n",
      "    accuracy                           0.41     20000\n",
      "   macro avg       0.48      0.51      0.40     20000\n",
      "weighted avg       0.67      0.41      0.46     20000\n",
      "\n",
      "Naive Bayes, Accuracy Score: 0.41295\n"
     ]
    }
   ],
   "source": [
    "X = pd.DataFrame(modelling_features_enhanced)\n",
    "y = dataset['label']\n",
    "X_train_features, X_test_features, y_train, y_test = train_test_split(X, y, random_state=0, test_size=0.2)\n",
    "nb = GaussianNB()\n",
    "nb.fit(X_train_features,y_train)\n",
    "y_preds = nb.predict(X_test_features)\n",
    "acc2 = accuracy_score(y_test,y_preds)\n",
    "report = classification_report(y_test, y_preds)\n",
    "print(report)\n",
    "print(\"Naive Bayes, Accuracy Score:\", acc2)"
   ]
  },
  {
   "cell_type": "code",
   "execution_count": 21,
   "id": "58de3456",
   "metadata": {},
   "outputs": [
    {
     "name": "stderr",
     "output_type": "stream",
     "text": [
      "/opt/conda/lib/python3.7/site-packages/sklearn/svm/_base.py:986: ConvergenceWarning: Liblinear failed to converge, increase the number of iterations.\n",
      "  \"the number of iterations.\", ConvergenceWarning)\n"
     ]
    },
    {
     "name": "stdout",
     "output_type": "stream",
     "text": [
      "              precision    recall  f1-score   support\n",
      "\n",
      "     abusive       0.86      0.85      0.85      5497\n",
      "     hateful       0.53      0.34      0.42      1000\n",
      "      normal       0.90      0.37      0.52     10711\n",
      "        spam       0.26      0.89      0.40      2792\n",
      "\n",
      "    accuracy                           0.57     20000\n",
      "   macro avg       0.64      0.61      0.55     20000\n",
      "weighted avg       0.78      0.57      0.59     20000\n",
      "\n",
      "SVM, Accuracy Score: 0.5711\n"
     ]
    }
   ],
   "source": [
    "X = pd.DataFrame(modelling_features_enhanced)\n",
    "y = dataset['label']\n",
    "X_train_features, X_test_features, y_train, y_test_helo = train_test_split(X, y, random_state=0, test_size=0.2)\n",
    "support =LinearSVC(random_state=20)\n",
    "support.fit(X_train_features,y_train)\n",
    "y_preds = support.predict(X_test_features)\n",
    "acc3=accuracy_score(y_test_helo,y_preds)\n",
    "report = classification_report(y_test_helo, y_preds)\n",
    "print(report)\n",
    "print(\"SVM, Accuracy Score:\" ,acc3 )"
   ]
  },
  {
   "cell_type": "code",
   "execution_count": 22,
   "id": "2612b39d",
   "metadata": {},
   "outputs": [
    {
     "data": {
      "image/png": "[encoded data removed]",
      "text/plain": [
       "<Figure size 432x288 with 1 Axes>"
      ]
     },
     "metadata": {
      "needs_background": "light"
     },
     "output_type": "display_data"
    }
   ],
   "source": [
    "objects = ('Logistic', 'RandomForest', 'Naive_bayes', 'SVM')\n",
    "y_pos = np.arange(len(objects))\n",
    "performance = [acc,acc1,acc2,acc3]\n",
    "plt.bar(y_pos, performance, align='center', alpha=0.5)\n",
    "plt.xticks(y_pos, objects)\n",
    "plt.ylabel('Accuracy')\n",
    "plt.title('Algorithm Comparision')\n",
    "plt.show()"
   ]
  },
  {
   "cell_type": "code",
   "execution_count": null,
   "id": "9165a579",
   "metadata": {},
   "outputs": [],
   "source": []
  }
 ],
 "metadata": {
  "kernelspec": {
   "display_name": "Python 3",
   "language": "python",
   "name": "python3"
  },
  "language_info": {
   "codemirror_mode": {
    "name": "ipython",
    "version": 3
   },
   "file_extension": ".py",
   "mimetype": "text/x-python",
   "name": "python",
   "nbconvert_exporter": "python",
   "pygments_lexer": "ipython3",
   "version": "3.7.10"
  }
 },
 "nbformat": 4,
 "nbformat_minor": 5
}
