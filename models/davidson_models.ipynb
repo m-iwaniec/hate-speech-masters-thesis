{
  "nbformat": 4,
  "nbformat_minor": 0,
  "metadata": {
    "colab": {
      "name": "davidson-models.ipynb",
      "provenance": [],
      "collapsed_sections": [],
      "toc_visible": true
    },
    "kernelspec": {
      "display_name": "Python 3",
      "language": "python",
      "name": "python3"
    },
    "language_info": {
      "codemirror_mode": {
        "name": "ipython",
        "version": 3
      },
      "file_extension": ".py",
      "mimetype": "text/x-python",
      "name": "python",
      "nbconvert_exporter": "python",
      "pygments_lexer": "ipython3",
      "version": "3.7.3"
    }
  },
  "cells": [
    {
      "cell_type": "code",
      "metadata": {
        "colab": {
          "base_uri": "https://localhost:8080/"
        },
        "id": "pCahIRnqDaZ7",
        "outputId": "5b7ecd0a-3254-4214-9d70-f919d421c19f"
      },
      "source": [
        "import pandas as pd\n",
        "from nltk.corpus import stopwords\n",
        "from nltk.stem.porter import *\n",
        "import nltk\n",
        "nltk.download('stopwords')\n",
        "nltk.download('vader_lexicon')\n",
        "from sklearn.feature_extraction.text import TfidfVectorizer\n",
        "import seaborn as sns\n",
        "import matplotlib.pyplot as plt\n",
        "%matplotlib inline\n",
        "from textstat.textstat import *\n",
        "from sklearn.linear_model import LogisticRegression\n",
        "from sklearn.model_selection import train_test_split\n",
        "from sklearn.metrics import classification_report\n",
        "from sklearn.metrics import accuracy_score\n",
        "from sklearn.svm import LinearSVC\n",
        "from sklearn.ensemble import RandomForestClassifier\n",
        "from sklearn.naive_bayes import GaussianNB\n",
        "from gensim.models.doc2vec import Doc2Vec, TaggedDocument\n",
        "from sklearn.metrics import confusion_matrix\n",
        "import numpy as np\n",
        "from nltk.sentiment.vader import SentimentIntensityAnalyzer as VS\n",
        "import warnings\n",
        "warnings.simplefilter(action='ignore', category=FutureWarning)"
      ],
      "execution_count": 1,
      "outputs": [
        {
          "output_type": "stream",
          "text": [
            "[nltk_data] Downloading package stopwords to /root/nltk_data...\n",
            "[nltk_data]   Package stopwords is already up-to-date!\n",
            "[nltk_data] Downloading package vader_lexicon to /root/nltk_data...\n",
            "[nltk_data]   Package vader_lexicon is already up-to-date!\n"
          ],
          "name": "stdout"
        },
        {
          "output_type": "stream",
          "text": [
            "/usr/local/lib/python3.7/dist-packages/nltk/twitter/__init__.py:20: UserWarning: The twython library has not been installed. Some functionality from the twitter package will not be available.\n",
            "  warnings.warn(\"The twython library has not been installed. \"\n"
          ],
          "name": "stderr"
        }
      ]
    },
    {
      "cell_type": "code",
      "metadata": {
        "colab": {
          "base_uri": "https://localhost:8080/",
          "height": 310
        },
        "id": "GO-REHi-DaZ-",
        "outputId": "324073a0-cd94-4aa8-a043-18d223a8b00a"
      },
      "source": [
        "dataset = pd.read_csv('/content/davidson_dataset.csv')\n",
        "dataset.head()"
      ],
      "execution_count": 2,
      "outputs": [
        {
          "output_type": "execute_result",
          "data": {
            "text/html": [
              "<div>\n",
              "<style scoped>\n",
              "    .dataframe tbody tr th:only-of-type {\n",
              "        vertical-align: middle;\n",
              "    }\n",
              "\n",
              "    .dataframe tbody tr th {\n",
              "        vertical-align: top;\n",
              "    }\n",
              "\n",
              "    .dataframe thead th {\n",
              "        text-align: right;\n",
              "    }\n",
              "</style>\n",
              "<table border=\"1\" class=\"dataframe\">\n",
              "  <thead>\n",
              "    <tr style=\"text-align: right;\">\n",
              "      <th></th>\n",
              "      <th>Unnamed: 0</th>\n",
              "      <th>count</th>\n",
              "      <th>hate_speech</th>\n",
              "      <th>offensive_language</th>\n",
              "      <th>neither</th>\n",
              "      <th>class</th>\n",
              "      <th>tweet</th>\n",
              "    </tr>\n",
              "  </thead>\n",
              "  <tbody>\n",
              "    <tr>\n",
              "      <th>0</th>\n",
              "      <td>0</td>\n",
              "      <td>3</td>\n",
              "      <td>0</td>\n",
              "      <td>0</td>\n",
              "      <td>3</td>\n",
              "      <td>2</td>\n",
              "      <td>!!! RT @mayasolovely: As a woman you shouldn't...</td>\n",
              "    </tr>\n",
              "    <tr>\n",
              "      <th>1</th>\n",
              "      <td>1</td>\n",
              "      <td>3</td>\n",
              "      <td>0</td>\n",
              "      <td>3</td>\n",
              "      <td>0</td>\n",
              "      <td>1</td>\n",
              "      <td>!!!!! RT @mleew17: boy dats cold...tyga dwn ba...</td>\n",
              "    </tr>\n",
              "    <tr>\n",
              "      <th>2</th>\n",
              "      <td>2</td>\n",
              "      <td>3</td>\n",
              "      <td>0</td>\n",
              "      <td>3</td>\n",
              "      <td>0</td>\n",
              "      <td>1</td>\n",
              "      <td>!!!!!!! RT @UrKindOfBrand Dawg!!!! RT @80sbaby...</td>\n",
              "    </tr>\n",
              "    <tr>\n",
              "      <th>3</th>\n",
              "      <td>3</td>\n",
              "      <td>3</td>\n",
              "      <td>0</td>\n",
              "      <td>2</td>\n",
              "      <td>1</td>\n",
              "      <td>1</td>\n",
              "      <td>!!!!!!!!! RT @C_G_Anderson: @viva_based she lo...</td>\n",
              "    </tr>\n",
              "    <tr>\n",
              "      <th>4</th>\n",
              "      <td>4</td>\n",
              "      <td>6</td>\n",
              "      <td>0</td>\n",
              "      <td>6</td>\n",
              "      <td>0</td>\n",
              "      <td>1</td>\n",
              "      <td>!!!!!!!!!!!!! RT @ShenikaRoberts: The shit you...</td>\n",
              "    </tr>\n",
              "  </tbody>\n",
              "</table>\n",
              "</div>"
            ],
            "text/plain": [
              "   Unnamed: 0  count  ...  class                                              tweet\n",
              "0           0      3  ...      2  !!! RT @mayasolovely: As a woman you shouldn't...\n",
              "1           1      3  ...      1  !!!!! RT @mleew17: boy dats cold...tyga dwn ba...\n",
              "2           2      3  ...      1  !!!!!!! RT @UrKindOfBrand Dawg!!!! RT @80sbaby...\n",
              "3           3      3  ...      1  !!!!!!!!! RT @C_G_Anderson: @viva_based she lo...\n",
              "4           4      6  ...      1  !!!!!!!!!!!!! RT @ShenikaRoberts: The shit you...\n",
              "\n",
              "[5 rows x 7 columns]"
            ]
          },
          "metadata": {
            "tags": []
          },
          "execution_count": 2
        }
      ]
    },
    {
      "cell_type": "code",
      "metadata": {
        "colab": {
          "base_uri": "https://localhost:8080/"
        },
        "id": "4IoEc07FDaaD",
        "outputId": "1847d645-1874-4812-9b88-6d978726f020"
      },
      "source": [
        "# Adding text-length as a field in the dataset\n",
        "dataset['text length'] = dataset['tweet'].apply(len)\n",
        "print(dataset.head())"
      ],
      "execution_count": 3,
      "outputs": [
        {
          "output_type": "stream",
          "text": [
            "   Unnamed: 0  ...  text length\n",
            "0           0  ...          140\n",
            "1           1  ...           85\n",
            "2           2  ...          120\n",
            "3           3  ...           62\n",
            "4           4  ...          137\n",
            "\n",
            "[5 rows x 8 columns]\n"
          ],
          "name": "stdout"
        }
      ]
    },
    {
      "cell_type": "code",
      "metadata": {
        "colab": {
          "base_uri": "https://localhost:8080/",
          "height": 242
        },
        "id": "5DgHD6coDaaG",
        "outputId": "753ca547-1f29-4b2c-8136-5b61e43ae95d"
      },
      "source": [
        "# FacetGrid- Multi-plot grid for plotting conditional relationships\n",
        "\n",
        "graph = sns.FacetGrid(data = dataset, col ='class')\n",
        "graph.map(plt.hist, 'text length', bins = 50)"
      ],
      "execution_count": 4,
      "outputs": [
        {
          "output_type": "execute_result",
          "data": {
            "text/plain": [
              "<seaborn.axisgrid.FacetGrid at 0x7f5c37efc750>"
            ]
          },
          "metadata": {
            "tags": []
          },
          "execution_count": 4
        },
        {
          "output_type": "display_data",
          "data": {
            "image/png": "[encoded data removed]",
            "text/plain": [
              "<Figure size 648x216 with 3 Axes>"
            ]
          },
          "metadata": {
            "tags": [],
            "needs_background": "light"
          }
        }
      ]
    },
    {
      "cell_type": "code",
      "metadata": {
        "id": "Gk627VR3DaaP"
      },
      "source": [
        "# collecting only the tweets from the csv file into a variable name tweet\n",
        "tweet = dataset.tweet"
      ],
      "execution_count": 5,
      "outputs": []
    },
    {
      "cell_type": "markdown",
      "metadata": {
        "id": "XsvLIysqDaaR"
      },
      "source": [
        "## Preprocessing of the tweets"
      ]
    },
    {
      "cell_type": "code",
      "metadata": {
        "colab": {
          "base_uri": "https://localhost:8080/"
        },
        "id": "t8-zgJEkDaaS",
        "outputId": "8c8643bf-ffaf-4f45-b19f-fed2e81ebdbb"
      },
      "source": [
        "## 1. Removal of punctuation and capitlization\n",
        "## 2. Tokenizing\n",
        "## 3. Removal of stopwords\n",
        "## 4. Stemming\n",
        "\n",
        "stopwords = nltk.corpus.stopwords.words(\"english\")\n",
        "\n",
        "#extending the stopwords to include other words used in twitter such as retweet etc.\n",
        "other_exclusions = [\"#ff\", \"ff\", \"rt\"]\n",
        "stopwords.extend(other_exclusions)\n",
        "stemmer = PorterStemmer()\n",
        "\n",
        "def preprocess(tweet):\n",
        "    # removal of extra spaces\n",
        "    regex_pat = re.compile(r'\\s+')\n",
        "    tweet_space = tweet.str.replace(regex_pat, ' ')\n",
        "\n",
        "    # removal of @name[mention]\n",
        "    regex_pat = re.compile(r'@[\\w\\-]+')\n",
        "    tweet_name = tweet_space.str.replace(regex_pat, '')\n",
        "\n",
        "    # removal of links[https://abc.com]\n",
        "    giant_url_regex =  re.compile('http[s]?://(?:[a-zA-Z]|[0-9]|[$-_@.&+]|'\n",
        "            '[!*\\(\\),]|(?:%[0-9a-fA-F][0-9a-fA-F]))+')\n",
        "    tweets = tweet_name.str.replace(giant_url_regex, '')\n",
        "    \n",
        "    # removal of punctuations and numbers\n",
        "    punc_remove = tweets.str.replace(\"[^a-zA-Z]\", \" \")\n",
        "    # remove whitespace with a single space\n",
        "    newtweet=punc_remove.str.replace(r'\\s+', ' ')\n",
        "    # remove leading and trailing whitespace\n",
        "    newtweet=newtweet.str.replace(r'^\\s+|\\s+?$','')\n",
        "    # replace normal numbers with numbr\n",
        "    newtweet=newtweet.str.replace(r'\\d+(\\.\\d+)?','numbr')\n",
        "    # removal of capitalization\n",
        "    tweet_lower = newtweet.str.lower()\n",
        "    \n",
        "    # tokenizing\n",
        "    tokenized_tweet = tweet_lower.apply(lambda x: x.split())\n",
        "    \n",
        "    # removal of stopwords\n",
        "    tokenized_tweet=  tokenized_tweet.apply(lambda x: [item for item in x if item not in stopwords])\n",
        "    \n",
        "    # stemming of the tweets\n",
        "    tokenized_tweet = tokenized_tweet.apply(lambda x: [stemmer.stem(i) for i in x]) \n",
        "    \n",
        "    for i in range(len(tokenized_tweet)):\n",
        "        tokenized_tweet[i] = ' '.join(tokenized_tweet[i])\n",
        "        tweets_p= tokenized_tweet\n",
        "    \n",
        "    return tweets_p\n",
        "\n",
        "processed_tweets = preprocess(tweet)   \n",
        "\n",
        "dataset['processed_tweets'] = processed_tweets\n",
        "print(dataset[[\"tweet\",\"processed_tweets\"]].head(10))"
      ],
      "execution_count": 6,
      "outputs": [
        {
          "output_type": "stream",
          "text": [
            "                                               tweet                                   processed_tweets\n",
            "0  !!! RT @mayasolovely: As a woman you shouldn't...  woman complain clean hous amp man alway take t...\n",
            "1  !!!!! RT @mleew17: boy dats cold...tyga dwn ba...  boy dat cold tyga dwn bad cuffin dat hoe st place\n",
            "2  !!!!!!! RT @UrKindOfBrand Dawg!!!! RT @80sbaby...         dawg ever fuck bitch start cri confus shit\n",
            "3  !!!!!!!!! RT @C_G_Anderson: @viva_based she lo...                                   look like tranni\n",
            "4  !!!!!!!!!!!!! RT @ShenikaRoberts: The shit you...     shit hear might true might faker bitch told ya\n",
            "5  !!!!!!!!!!!!!!!!!!\"@T_Madison_x: The shit just...      shit blow claim faith somebodi still fuck hoe\n",
            "6  !!!!!!\"@__BrighterDays: I can not just sit up ...              sit hate anoth bitch got much shit go\n",
            "7  !!!!&#8220;@selfiequeenbri: cause I'm tired of...            caus tire big bitch come us skinni girl\n",
            "8  \" &amp; you might not get ya bitch back &amp; ...               amp might get ya bitch back amp that\n",
            "9  \" @rhythmixx_ :hobbies include: fighting Maria...                    hobbi includ fight mariam bitch\n"
          ],
          "name": "stdout"
        }
      ]
    },
    {
      "cell_type": "markdown",
      "metadata": {
        "id": "L7HvJmKQDaaY"
      },
      "source": [
        "## Feature Engineering"
      ]
    },
    {
      "cell_type": "code",
      "metadata": {
        "colab": {
          "base_uri": "https://localhost:8080/"
        },
        "id": "yJNQiYB5DaaY",
        "outputId": "88c165d3-9bb5-4f94-8576-da9fe53aea03"
      },
      "source": [
        "#TF-IDF Features-F1\n",
        "# TF-IDF feature matrix\n",
        "tfidf_vectorizer = TfidfVectorizer(ngram_range=(1, 2),max_df=0.75, min_df=5, max_features=10000)\n",
        "tfidf = tfidf_vectorizer.fit_transform(dataset['processed_tweets'])\n",
        "print(tfidf)"
      ],
      "execution_count": 7,
      "outputs": [
        {
          "output_type": "stream",
          "text": [
            "  (0, 5549)\t0.4309517500614609\n",
            "  (0, 5823)\t0.21292360474103067\n",
            "  (0, 5536)\t0.2694725323170756\n",
            "  (0, 103)\t0.2848504306418305\n",
            "  (0, 3639)\t0.2500076439754137\n",
            "  (0, 124)\t0.22951771468335722\n",
            "  (0, 2896)\t0.32473278046308335\n",
            "  (0, 1189)\t0.37180372772740344\n",
            "  (0, 1266)\t0.37805333846740247\n",
            "  (0, 6262)\t0.33673876130852654\n",
            "  (1, 1455)\t0.35408569797294004\n",
            "  (1, 4385)\t0.29402989193760287\n",
            "  (1, 5340)\t0.3008029767463628\n",
            "  (1, 2717)\t0.12204320836205955\n",
            "  (1, 1388)\t0.37776257623201304\n",
            "  (1, 321)\t0.20828940991978914\n",
            "  (1, 5944)\t0.35642794983844883\n",
            "  (1, 1221)\t0.3008029767463628\n",
            "  (1, 1453)\t0.47084617485060926\n",
            "  (1, 892)\t0.2397588136195512\n",
            "  (2, 723)\t0.4025857370799935\n",
            "  (2, 2121)\t0.26875711871483904\n",
            "  (2, 1802)\t0.4334907503536408\n",
            "  (2, 5054)\t0.19413584053699529\n",
            "  (2, 1279)\t0.366125652299236\n",
            "  :\t:\n",
            "  (24780, 960)\t0.343011332843257\n",
            "  (24780, 63)\t0.37409643142606824\n",
            "  (24780, 4095)\t0.26604418498734955\n",
            "  (24780, 1544)\t0.2613777761879398\n",
            "  (24780, 2187)\t0.2280990649157048\n",
            "  (24780, 1713)\t0.21384505532921141\n",
            "  (24780, 6073)\t0.21706201572242145\n",
            "  (24780, 6422)\t0.2640345866050825\n",
            "  (24780, 59)\t0.22992687608371262\n",
            "  (24780, 3351)\t0.13224867315276312\n",
            "  (24780, 1453)\t0.2216496098185776\n",
            "  (24781, 5629)\t0.6189846532704482\n",
            "  (24781, 6222)\t0.5563882350726619\n",
            "  (24781, 3338)\t0.45141241139049565\n",
            "  (24781, 2463)\t0.2924821464067444\n",
            "  (24781, 472)\t0.13405655435044156\n",
            "  (24782, 1237)\t0.4330856162672851\n",
            "  (24782, 4374)\t0.3599215657537571\n",
            "  (24782, 141)\t0.4330856162672851\n",
            "  (24782, 4238)\t0.38472304857080997\n",
            "  (24782, 1227)\t0.2679839584174029\n",
            "  (24782, 386)\t0.32936306298879203\n",
            "  (24782, 6389)\t0.25824505050980634\n",
            "  (24782, 6187)\t0.24155660192140488\n",
            "  (24782, 124)\t0.20489707927022777\n"
          ],
          "name": "stdout"
        }
      ]
    },
    {
      "cell_type": "markdown",
      "metadata": {
        "id": "yJVhoUbpDaaZ"
      },
      "source": [
        "### Running various model Using TFIDF without additional features"
      ]
    },
    {
      "cell_type": "code",
      "metadata": {
        "colab": {
          "base_uri": "https://localhost:8080/"
        },
        "id": "GsiV8koqDaaa",
        "outputId": "cb7b2294-ec11-4948-ad6b-12b591612e2f"
      },
      "source": [
        "# If you don't specify the random_state in the code, \n",
        "# then every time you run(execute) your code a new random value is generated \n",
        "# and the train and test datasets would have different values each time.\n",
        "X = tfidf\n",
        "y = dataset['class'].astype(int)\n",
        "X_train_tfidf, X_test_tfidf, y_train, y_test = train_test_split(X, y, random_state=42, test_size=0.2)\n",
        "model = LogisticRegression().fit(X_train_tfidf,y_train)\n",
        "y_preds = model.predict(X_test_tfidf)\n",
        "report = classification_report(y_test, y_preds )\n",
        "print(report)\n",
        "acc = accuracy_score(y_test,y_preds)\n",
        "print(\"Logistic Regression, Accuracy Score:\" , acc)\n"
      ],
      "execution_count": 8,
      "outputs": [
        {
          "output_type": "stream",
          "text": [
            "              precision    recall  f1-score   support\n",
            "\n",
            "           0       0.56      0.18      0.27       290\n",
            "           1       0.92      0.96      0.94      3832\n",
            "           2       0.85      0.84      0.85       835\n",
            "\n",
            "    accuracy                           0.90      4957\n",
            "   macro avg       0.77      0.66      0.68      4957\n",
            "weighted avg       0.88      0.90      0.88      4957\n",
            "\n",
            "Logistic Regression, Accuracy Score: 0.8975186604801291\n"
          ],
          "name": "stdout"
        },
        {
          "output_type": "stream",
          "text": [
            "/usr/local/lib/python3.7/dist-packages/sklearn/linear_model/_logistic.py:940: ConvergenceWarning: lbfgs failed to converge (status=1):\n",
            "STOP: TOTAL NO. of ITERATIONS REACHED LIMIT.\n",
            "\n",
            "Increase the number of iterations (max_iter) or scale the data as shown in:\n",
            "    https://scikit-learn.org/stable/modules/preprocessing.html\n",
            "Please also refer to the documentation for alternative solver options:\n",
            "    https://scikit-learn.org/stable/modules/linear_model.html#logistic-regression\n",
            "  extra_warning_msg=_LOGISTIC_SOLVER_CONVERGENCE_MSG)\n"
          ],
          "name": "stderr"
        }
      ]
    },
    {
      "cell_type": "code",
      "metadata": {
        "colab": {
          "base_uri": "https://localhost:8080/"
        },
        "id": "bXHSGGqdDaab",
        "outputId": "c388d8a4-3e3c-4ea1-fb4d-c1e3a2a92e94"
      },
      "source": [
        "X_train_tfidf, X_test_tfidf, y_train, y_test = train_test_split(X, y, random_state=42, test_size=0.2)\n",
        "rf = RandomForestClassifier()\n",
        "rf.fit(X_train_tfidf,y_train)\n",
        "y_preds = rf.predict(X_test_tfidf)\n",
        "acc1 = accuracy_score(y_test,y_preds)\n",
        "report = classification_report(y_test, y_preds)\n",
        "print(report)\n",
        "print(\"Random Forest, Accuracy Score:\", acc1)"
      ],
      "execution_count": 9,
      "outputs": [
        {
          "output_type": "stream",
          "text": [
            "              precision    recall  f1-score   support\n",
            "\n",
            "           0       0.50      0.15      0.23       290\n",
            "           1       0.93      0.96      0.94      3832\n",
            "           2       0.83      0.91      0.87       835\n",
            "\n",
            "    accuracy                           0.90      4957\n",
            "   macro avg       0.75      0.67      0.68      4957\n",
            "weighted avg       0.89      0.90      0.89      4957\n",
            "\n",
            "Random Forest, Accuracy Score: 0.9023602985676821\n"
          ],
          "name": "stdout"
        }
      ]
    },
    {
      "cell_type": "code",
      "metadata": {
        "colab": {
          "base_uri": "https://localhost:8080/"
        },
        "id": "HKLeRYXCDaac",
        "outputId": "9d9c0006-d49f-4ef5-ea5c-50cb35afab2e"
      },
      "source": [
        "X_train_tfidf, X_test_tfidf, y_train, y_test = train_test_split(X.toarray(), y, random_state=42, test_size=0.2)\n",
        "nb = GaussianNB()\n",
        "nb.fit(X_train_tfidf,y_train)\n",
        "y_preds = nb.predict(X_test_tfidf)\n",
        "acc2 = accuracy_score(y_test,y_preds)\n",
        "report = classification_report(y_test, y_preds)\n",
        "print(report)\n",
        "print(\"Naive Bayes, Accuracy Score:\", acc2)"
      ],
      "execution_count": 10,
      "outputs": [
        {
          "output_type": "stream",
          "text": [
            "              precision    recall  f1-score   support\n",
            "\n",
            "           0       0.10      0.39      0.16       290\n",
            "           1       0.89      0.68      0.77      3832\n",
            "           2       0.54      0.58      0.56       835\n",
            "\n",
            "    accuracy                           0.65      4957\n",
            "   macro avg       0.51      0.55      0.50      4957\n",
            "weighted avg       0.79      0.65      0.70      4957\n",
            "\n",
            "Naive Bayes, Accuracy Score: 0.6491829735727255\n"
          ],
          "name": "stdout"
        }
      ]
    },
    {
      "cell_type": "code",
      "metadata": {
        "colab": {
          "base_uri": "https://localhost:8080/"
        },
        "id": "azKujrcPDaad",
        "outputId": "a3d7a53e-93c8-4a8f-a679-83956b6c1894"
      },
      "source": [
        "support = LinearSVC(random_state=20)\n",
        "support.fit(X_train_tfidf,y_train)\n",
        "y_preds = support.predict(X_test_tfidf)\n",
        "acc3 = accuracy_score(y_test,y_preds)\n",
        "report = classification_report(y_test, y_preds)\n",
        "print(report)\n",
        "print(\"SVM, Accuracy Score:\" , acc3)"
      ],
      "execution_count": 11,
      "outputs": [
        {
          "output_type": "stream",
          "text": [
            "              precision    recall  f1-score   support\n",
            "\n",
            "           0       0.46      0.26      0.33       290\n",
            "           1       0.92      0.95      0.94      3832\n",
            "           2       0.83      0.85      0.84       835\n",
            "\n",
            "    accuracy                           0.89      4957\n",
            "   macro avg       0.74      0.69      0.70      4957\n",
            "weighted avg       0.88      0.89      0.89      4957\n",
            "\n",
            "SVM, Accuracy Score: 0.8932822271535202\n"
          ],
          "name": "stdout"
        }
      ]
    },
    {
      "cell_type": "code",
      "metadata": {
        "colab": {
          "base_uri": "https://localhost:8080/",
          "height": 282
        },
        "id": "zN5hjpFlDaae",
        "outputId": "b40d1d2f-19ec-432a-bf1e-9666d8d4d391"
      },
      "source": [
        "objects = ('Logistic', 'RandomForest', 'Naive_bayes', 'SVM')\n",
        "y_pos = np.arange(len(objects))\n",
        "performance = [acc,acc1,acc2,acc3]\n",
        "plt.bar(y_pos, performance, align='center', alpha=0.5)\n",
        "plt.xticks(y_pos, objects)\n",
        "plt.ylabel('Accuracy')\n",
        "plt.title('Algorithm Comparision for F1')\n",
        "plt.show()"
      ],
      "execution_count": 12,
      "outputs": [
        {
          "output_type": "display_data",
          "data": {
            "image/png": "[encoded data removed]",
            "text/plain": [
              "<Figure size 432x288 with 1 Axes>"
            ]
          },
          "metadata": {
            "tags": [],
            "needs_background": "light"
          }
        }
      ]
    },
    {
      "cell_type": "code",
      "metadata": {
        "colab": {
          "base_uri": "https://localhost:8080/",
          "height": 341
        },
        "id": "_vKgC3JSLBYM",
        "outputId": "b99a3b95-26cf-43b5-c813-4c8cc3c8cc06"
      },
      "source": [
        "confusion_matrix = confusion_matrix(y_test,y_preds)\n",
        "matrix_proportions = np.zeros((3,3))\n",
        "for i in range(0,3):\n",
        "    matrix_proportions[i,:] = confusion_matrix[i,:]/float(confusion_matrix[i,:].sum())\n",
        "names=['Hate','Offensive','Neither']\n",
        "confusion_df = pd.DataFrame(matrix_proportions, index=names,columns=names)\n",
        "plt.figure(figsize=(5,5))\n",
        "sns.heatmap(confusion_df,annot=True,annot_kws={\"size\": 12},cmap='YlGnBu',cbar=False, square=True,fmt='.2f')\n",
        "plt.ylabel(r'True Value',fontsize=14)\n",
        "plt.xlabel(r'Predicted Value',fontsize=14)\n",
        "plt.tick_params(labelsize=12)"
      ],
      "execution_count": 13,
      "outputs": [
        {
          "output_type": "display_data",
          "data": {
            "image/png": "[encoded data removed]",
            "text/plain": [
              "<Figure size 360x360 with 1 Axes>"
            ]
          },
          "metadata": {
            "tags": [],
            "needs_background": "light"
          }
        }
      ]
    },
    {
      "cell_type": "markdown",
      "metadata": {
        "id": "vWOcpQuODaaf"
      },
      "source": [
        "### Sentiment Analysis, using polarity scores as features"
      ]
    },
    {
      "cell_type": "code",
      "metadata": {
        "colab": {
          "base_uri": "https://localhost:8080/",
          "height": 423
        },
        "id": "1_y8uDhADaaf",
        "outputId": "2de6606c-cdad-402f-f713-5dab8d9c97de"
      },
      "source": [
        "sentiment_analyzer = VS()\n",
        "def count_tags(tweet_c):  \n",
        "    \n",
        "    space_pattern = '\\s+'\n",
        "    giant_url_regex = ('http[s]?://(?:[a-zA-Z]|[0-9]|[$-_@.&+]|'\n",
        "        '[!*\\(\\),]|(?:%[0-9a-fA-F][0-9a-fA-F]))+')\n",
        "    mention_regex = '@[\\w\\-]+'\n",
        "    hashtag_regex = '#[\\w\\-]+'\n",
        "    parsed_text = re.sub(space_pattern, ' ', tweet_c)\n",
        "    parsed_text = re.sub(giant_url_regex, 'URLHERE', parsed_text)\n",
        "    parsed_text = re.sub(mention_regex, 'MENTIONHERE', parsed_text)\n",
        "    parsed_text = re.sub(hashtag_regex, 'HASHTAGHERE', parsed_text)\n",
        "    return(parsed_text.count('URLHERE'),parsed_text.count('MENTIONHERE'),parsed_text.count('HASHTAGHERE'))\n",
        "\n",
        "def sentiment_analysis(tweet):   \n",
        "    sentiment = sentiment_analyzer.polarity_scores(tweet)    \n",
        "    twitter_objs = count_tags(tweet)\n",
        "    features = [sentiment['neg'], sentiment['pos'], sentiment['neu'], sentiment['compound'],twitter_objs[0], twitter_objs[1],\n",
        "                twitter_objs[2]]\n",
        "    #features = pd.DataFrame(features)\n",
        "    return features\n",
        "\n",
        "def sentiment_analysis_array(tweets):\n",
        "    features=[]\n",
        "    for t in tweets:\n",
        "        features.append(sentiment_analysis(t))\n",
        "    return np.array(features)\n",
        "\n",
        "final_features = sentiment_analysis_array(tweet)\n",
        "#final_features\n",
        "\n",
        "new_features = pd.DataFrame({'Neg':final_features[:,0],'Pos':final_features[:,1],'Neu':final_features[:,2],'Compound':final_features[:,3],\n",
        "                            'url_tag':final_features[:,4],'mention_tag':final_features[:,5],'hash_tag':final_features[:,6]})\n",
        "new_features"
      ],
      "execution_count": 14,
      "outputs": [
        {
          "output_type": "execute_result",
          "data": {
            "text/html": [
              "<div>\n",
              "<style scoped>\n",
              "    .dataframe tbody tr th:only-of-type {\n",
              "        vertical-align: middle;\n",
              "    }\n",
              "\n",
              "    .dataframe tbody tr th {\n",
              "        vertical-align: top;\n",
              "    }\n",
              "\n",
              "    .dataframe thead th {\n",
              "        text-align: right;\n",
              "    }\n",
              "</style>\n",
              "<table border=\"1\" class=\"dataframe\">\n",
              "  <thead>\n",
              "    <tr style=\"text-align: right;\">\n",
              "      <th></th>\n",
              "      <th>Neg</th>\n",
              "      <th>Pos</th>\n",
              "      <th>Neu</th>\n",
              "      <th>Compound</th>\n",
              "      <th>url_tag</th>\n",
              "      <th>mention_tag</th>\n",
              "      <th>hash_tag</th>\n",
              "    </tr>\n",
              "  </thead>\n",
              "  <tbody>\n",
              "    <tr>\n",
              "      <th>0</th>\n",
              "      <td>0.000</td>\n",
              "      <td>0.120</td>\n",
              "      <td>0.880</td>\n",
              "      <td>0.4563</td>\n",
              "      <td>0.0</td>\n",
              "      <td>1.0</td>\n",
              "      <td>0.0</td>\n",
              "    </tr>\n",
              "    <tr>\n",
              "      <th>1</th>\n",
              "      <td>0.237</td>\n",
              "      <td>0.000</td>\n",
              "      <td>0.763</td>\n",
              "      <td>-0.6876</td>\n",
              "      <td>0.0</td>\n",
              "      <td>1.0</td>\n",
              "      <td>0.0</td>\n",
              "    </tr>\n",
              "    <tr>\n",
              "      <th>2</th>\n",
              "      <td>0.538</td>\n",
              "      <td>0.000</td>\n",
              "      <td>0.462</td>\n",
              "      <td>-0.9550</td>\n",
              "      <td>0.0</td>\n",
              "      <td>2.0</td>\n",
              "      <td>0.0</td>\n",
              "    </tr>\n",
              "    <tr>\n",
              "      <th>3</th>\n",
              "      <td>0.000</td>\n",
              "      <td>0.344</td>\n",
              "      <td>0.656</td>\n",
              "      <td>0.5673</td>\n",
              "      <td>0.0</td>\n",
              "      <td>2.0</td>\n",
              "      <td>0.0</td>\n",
              "    </tr>\n",
              "    <tr>\n",
              "      <th>4</th>\n",
              "      <td>0.249</td>\n",
              "      <td>0.081</td>\n",
              "      <td>0.669</td>\n",
              "      <td>-0.7762</td>\n",
              "      <td>0.0</td>\n",
              "      <td>1.0</td>\n",
              "      <td>1.0</td>\n",
              "    </tr>\n",
              "    <tr>\n",
              "      <th>...</th>\n",
              "      <td>...</td>\n",
              "      <td>...</td>\n",
              "      <td>...</td>\n",
              "      <td>...</td>\n",
              "      <td>...</td>\n",
              "      <td>...</td>\n",
              "      <td>...</td>\n",
              "    </tr>\n",
              "    <tr>\n",
              "      <th>24778</th>\n",
              "      <td>0.000</td>\n",
              "      <td>0.000</td>\n",
              "      <td>1.000</td>\n",
              "      <td>0.0000</td>\n",
              "      <td>0.0</td>\n",
              "      <td>3.0</td>\n",
              "      <td>3.0</td>\n",
              "    </tr>\n",
              "    <tr>\n",
              "      <th>24779</th>\n",
              "      <td>0.454</td>\n",
              "      <td>0.000</td>\n",
              "      <td>0.546</td>\n",
              "      <td>-0.8074</td>\n",
              "      <td>0.0</td>\n",
              "      <td>0.0</td>\n",
              "      <td>0.0</td>\n",
              "    </tr>\n",
              "    <tr>\n",
              "      <th>24780</th>\n",
              "      <td>0.000</td>\n",
              "      <td>0.219</td>\n",
              "      <td>0.781</td>\n",
              "      <td>0.4738</td>\n",
              "      <td>0.0</td>\n",
              "      <td>0.0</td>\n",
              "      <td>0.0</td>\n",
              "    </tr>\n",
              "    <tr>\n",
              "      <th>24781</th>\n",
              "      <td>0.573</td>\n",
              "      <td>0.000</td>\n",
              "      <td>0.427</td>\n",
              "      <td>-0.7717</td>\n",
              "      <td>0.0</td>\n",
              "      <td>0.0</td>\n",
              "      <td>0.0</td>\n",
              "    </tr>\n",
              "    <tr>\n",
              "      <th>24782</th>\n",
              "      <td>0.000</td>\n",
              "      <td>0.218</td>\n",
              "      <td>0.782</td>\n",
              "      <td>0.5994</td>\n",
              "      <td>1.0</td>\n",
              "      <td>0.0</td>\n",
              "      <td>0.0</td>\n",
              "    </tr>\n",
              "  </tbody>\n",
              "</table>\n",
              "<p>24783 rows × 7 columns</p>\n",
              "</div>"
            ],
            "text/plain": [
              "         Neg    Pos    Neu  Compound  url_tag  mention_tag  hash_tag\n",
              "0      0.000  0.120  0.880    0.4563      0.0          1.0       0.0\n",
              "1      0.237  0.000  0.763   -0.6876      0.0          1.0       0.0\n",
              "2      0.538  0.000  0.462   -0.9550      0.0          2.0       0.0\n",
              "3      0.000  0.344  0.656    0.5673      0.0          2.0       0.0\n",
              "4      0.249  0.081  0.669   -0.7762      0.0          1.0       1.0\n",
              "...      ...    ...    ...       ...      ...          ...       ...\n",
              "24778  0.000  0.000  1.000    0.0000      0.0          3.0       3.0\n",
              "24779  0.454  0.000  0.546   -0.8074      0.0          0.0       0.0\n",
              "24780  0.000  0.219  0.781    0.4738      0.0          0.0       0.0\n",
              "24781  0.573  0.000  0.427   -0.7717      0.0          0.0       0.0\n",
              "24782  0.000  0.218  0.782    0.5994      1.0          0.0       0.0\n",
              "\n",
              "[24783 rows x 7 columns]"
            ]
          },
          "metadata": {
            "tags": []
          },
          "execution_count": 14
        }
      ]
    },
    {
      "cell_type": "code",
      "metadata": {
        "colab": {
          "base_uri": "https://localhost:8080/"
        },
        "id": "vuna8rXRDaag",
        "outputId": "734e7223-3601-4e37-94be-8054d8c1feed"
      },
      "source": [
        "# F2-Conctaenation of tf-idf scores and sentiment scores\n",
        "tfidf_a = tfidf.toarray()\n",
        "modelling_features = np.concatenate([tfidf_a,final_features],axis=1)\n",
        "modelling_features.shape"
      ],
      "execution_count": 15,
      "outputs": [
        {
          "output_type": "execute_result",
          "data": {
            "text/plain": [
              "(24783, 6448)"
            ]
          },
          "metadata": {
            "tags": []
          },
          "execution_count": 15
        }
      ]
    },
    {
      "cell_type": "markdown",
      "metadata": {
        "id": "7aGhMbuvDaag"
      },
      "source": [
        "### Running various model Using TFIDF and additional features"
      ]
    },
    {
      "cell_type": "code",
      "metadata": {
        "colab": {
          "base_uri": "https://localhost:8080/"
        },
        "id": "jFYa9AQ0Daah",
        "outputId": "38073a40-b446-4b7c-83a5-092e52f2c293"
      },
      "source": [
        "# Running the model Using TFIDF with some features from sentiment analysis\n",
        "\n",
        "X = pd.DataFrame(modelling_features)\n",
        "y = dataset['class'].astype(int)\n",
        "X_train_bow, X_test_bow, y_train, y_test = train_test_split(X, y, random_state=42, test_size=0.2)\n",
        "\n",
        "model = LogisticRegression().fit(X_train_bow,y_train)\n",
        "y_preds = model.predict(X_test_bow)\n",
        "report = classification_report(y_test, y_preds)\n",
        "print(report)\n",
        "acc = accuracy_score(y_test,y_preds)\n",
        "print(\"Logistic Regression, Accuracy Score:\" , acc)"
      ],
      "execution_count": 16,
      "outputs": [
        {
          "output_type": "stream",
          "text": [
            "              precision    recall  f1-score   support\n",
            "\n",
            "           0       0.59      0.19      0.28       290\n",
            "           1       0.92      0.96      0.94      3832\n",
            "           2       0.85      0.86      0.85       835\n",
            "\n",
            "    accuracy                           0.90      4957\n",
            "   macro avg       0.78      0.67      0.69      4957\n",
            "weighted avg       0.89      0.90      0.89      4957\n",
            "\n",
            "Logistic Regression, Accuracy Score: 0.900342949364535\n"
          ],
          "name": "stdout"
        },
        {
          "output_type": "stream",
          "text": [
            "/usr/local/lib/python3.7/dist-packages/sklearn/linear_model/_logistic.py:940: ConvergenceWarning: lbfgs failed to converge (status=1):\n",
            "STOP: TOTAL NO. of ITERATIONS REACHED LIMIT.\n",
            "\n",
            "Increase the number of iterations (max_iter) or scale the data as shown in:\n",
            "    https://scikit-learn.org/stable/modules/preprocessing.html\n",
            "Please also refer to the documentation for alternative solver options:\n",
            "    https://scikit-learn.org/stable/modules/linear_model.html#logistic-regression\n",
            "  extra_warning_msg=_LOGISTIC_SOLVER_CONVERGENCE_MSG)\n"
          ],
          "name": "stderr"
        }
      ]
    },
    {
      "cell_type": "code",
      "metadata": {
        "colab": {
          "base_uri": "https://localhost:8080/"
        },
        "id": "7-r2QPi1Daah",
        "outputId": "f5f8549b-ea7e-4d06-f8e2-70fe5aacfa3d"
      },
      "source": [
        "X = pd.DataFrame(modelling_features)\n",
        "y = dataset['class'].astype(int)\n",
        "X_train_bow, X_test_bow, y_train, y_test = train_test_split(X, y, random_state=42, test_size=0.2)\n",
        "rf = RandomForestClassifier()\n",
        "rf.fit(X_train_bow,y_train)\n",
        "y_preds = rf.predict(X_test_bow)\n",
        "acc1 = accuracy_score(y_test,y_preds)\n",
        "report = classification_report(y_test, y_preds)\n",
        "print(report)\n",
        "print(\"Random Forest, Accuracy Score:\", acc1)"
      ],
      "execution_count": 17,
      "outputs": [
        {
          "output_type": "stream",
          "text": [
            "              precision    recall  f1-score   support\n",
            "\n",
            "           0       0.52      0.13      0.21       290\n",
            "           1       0.91      0.96      0.94      3832\n",
            "           2       0.84      0.84      0.84       835\n",
            "\n",
            "    accuracy                           0.89      4957\n",
            "   macro avg       0.76      0.65      0.66      4957\n",
            "weighted avg       0.88      0.89      0.88      4957\n",
            "\n",
            "Random Forest, Accuracy Score: 0.8942909017550938\n"
          ],
          "name": "stdout"
        }
      ]
    },
    {
      "cell_type": "code",
      "metadata": {
        "colab": {
          "base_uri": "https://localhost:8080/"
        },
        "id": "5Rn0J5KADaaj",
        "outputId": "70ea0b92-5288-4f5d-dac2-6cdaec34fa8c"
      },
      "source": [
        "X = pd.DataFrame(modelling_features)\n",
        "y = dataset['class'].astype(int)\n",
        "X_train_bow, X_test_bow, y_train, y_test = train_test_split(X, y, random_state=42, test_size=0.2)\n",
        "nb = GaussianNB()\n",
        "nb.fit(X_train_bow,y_train)\n",
        "y_preds = nb.predict(X_test_bow)\n",
        "acc2 = accuracy_score(y_test,y_preds)\n",
        "report = classification_report(y_test, y_preds)\n",
        "print(report)\n",
        "print(\"Naive Bayes, Accuracy Score:\", acc2)"
      ],
      "execution_count": 18,
      "outputs": [
        {
          "output_type": "stream",
          "text": [
            "              precision    recall  f1-score   support\n",
            "\n",
            "           0       0.10      0.39      0.16       290\n",
            "           1       0.89      0.68      0.77      3832\n",
            "           2       0.54      0.59      0.56       835\n",
            "\n",
            "    accuracy                           0.65      4957\n",
            "   macro avg       0.51      0.55      0.50      4957\n",
            "weighted avg       0.79      0.65      0.70      4957\n",
            "\n",
            "Naive Bayes, Accuracy Score: 0.650191648174299\n"
          ],
          "name": "stdout"
        }
      ]
    },
    {
      "cell_type": "code",
      "metadata": {
        "colab": {
          "base_uri": "https://localhost:8080/"
        },
        "id": "Kt7suO6PDaak",
        "outputId": "0f5b6b10-2203-4f6b-8a4b-b9eb284f6b26"
      },
      "source": [
        "X = pd.DataFrame(modelling_features)\n",
        "y = dataset['class'].astype(int)\n",
        "X_train_bow, X_test_bow, y_train, y_test = train_test_split(X, y, random_state=42, test_size=0.2)\n",
        "support = LinearSVC(random_state=20)\n",
        "support.fit(X_train_bow,y_train)\n",
        "y_preds = support.predict(X_test_bow)\n",
        "acc3 = accuracy_score(y_test,y_preds)\n",
        "report = classification_report(y_test, y_preds)\n",
        "print(report)\n",
        "print(\"SVM, Accuracy Score:\" , acc3)"
      ],
      "execution_count": 19,
      "outputs": [
        {
          "output_type": "stream",
          "text": [
            "              precision    recall  f1-score   support\n",
            "\n",
            "           0       0.46      0.26      0.33       290\n",
            "           1       0.92      0.95      0.94      3832\n",
            "           2       0.83      0.85      0.84       835\n",
            "\n",
            "    accuracy                           0.89      4957\n",
            "   macro avg       0.74      0.69      0.70      4957\n",
            "weighted avg       0.88      0.89      0.88      4957\n",
            "\n",
            "SVM, Accuracy Score: 0.891466612870688\n"
          ],
          "name": "stdout"
        },
        {
          "output_type": "stream",
          "text": [
            "/usr/local/lib/python3.7/dist-packages/sklearn/svm/_base.py:947: ConvergenceWarning: Liblinear failed to converge, increase the number of iterations.\n",
            "  \"the number of iterations.\", ConvergenceWarning)\n"
          ],
          "name": "stderr"
        }
      ]
    },
    {
      "cell_type": "code",
      "metadata": {
        "colab": {
          "base_uri": "https://localhost:8080/",
          "height": 282
        },
        "id": "GL8s2vjWDaal",
        "outputId": "0128461c-dfb2-4b9f-90ef-e72cf3df94f8"
      },
      "source": [
        "objects = ('Logistic', 'RandomForest', 'Naive_bayes', 'SVM')\n",
        "y_pos = np.arange(len(objects))\n",
        "performance = [acc,acc1,acc2,acc3]\n",
        "plt.bar(y_pos, performance, align='center', alpha=0.5)\n",
        "plt.xticks(y_pos, objects)\n",
        "plt.ylabel('Accuracy')\n",
        "plt.title('Algorithm Comparision for F2')\n",
        "plt.show()"
      ],
      "execution_count": 20,
      "outputs": [
        {
          "output_type": "display_data",
          "data": {
            "image/png": "[encoded data removed]",
            "text/plain": [
              "<Figure size 432x288 with 1 Axes>"
            ]
          },
          "metadata": {
            "tags": [],
            "needs_background": "light"
          }
        }
      ]
    },
    {
      "cell_type": "code",
      "metadata": {
        "id": "gZp20JLdLImN"
      },
      "source": [
        "# confusion_matrix = confusion_matrix(y_test,y_preds)\n",
        "# matrix_proportions = np.zeros((3,3))\n",
        "# for i in range(0,3):\n",
        "#     matrix_proportions[i,:] = confusion_matrix[i,:]/float(confusion_matrix[i,:].sum())\n",
        "# names=['Hate','Offensive','Neither']\n",
        "# confusion_df = pd.DataFrame(matrix_proportions, index=names,columns=names)\n",
        "# plt.figure(figsize=(5,5))\n",
        "# sns.heatmap(confusion_df,annot=True,annot_kws={\"size\": 12},cmap='YlGnBu',cbar=False, square=True,fmt='.2f')\n",
        "# plt.ylabel(r'True Class',fontsize=14)\n",
        "# plt.xlabel(r'Predicted Class',fontsize=14)\n",
        "# plt.tick_params(labelsize=12)"
      ],
      "execution_count": 21,
      "outputs": []
    },
    {
      "cell_type": "code",
      "metadata": {
        "id": "aItvgrtxDaam",
        "colab": {
          "base_uri": "https://localhost:8080/",
          "height": 423
        },
        "outputId": "7c7de73e-450b-44e3-e078-90758723b544"
      },
      "source": [
        "# create doc2vec vector columns\n",
        "# Initialize and train the model\n",
        "\n",
        "#The input for a Doc2Vec model should be a list of TaggedDocument(['list','of','word'], [TAG_001]). \n",
        "#A good practice is using the indexes of sentences as the tags.\n",
        "documents = [TaggedDocument(doc, [i]) for i, doc in enumerate(dataset[\"processed_tweets\"].apply(lambda x: x.split(\" \")))]\n",
        "\n",
        "# train a Doc2Vec model with our text data\n",
        "# window- The maximum distance between the current and predicted word within a sentence.\n",
        "# mincount-Ignores all words with total frequency lower than this.\n",
        "# workers -Use these many worker threads to train the model\n",
        "#  Training Model - distributed bag of words (PV-DBOW) is employed.\n",
        "model = Doc2Vec(documents, vector_size=5, window=2, min_count=1, workers=4)\n",
        "\n",
        "#infer_vector - Infer a vector for given post-bulk training document.\n",
        "# Syntax- infer_vector(doc_words, alpha=None, min_alpha=None, epochs=None, steps=None)\n",
        "# doc_words-A document for which the vector representation will be inferred.\n",
        "\n",
        "# transform each document into a vector data\n",
        "doc2vec_df = dataset[\"processed_tweets\"].apply(lambda x: model.infer_vector(x.split(\" \"))).apply(pd.Series)\n",
        "doc2vec_df.columns = [\"doc2vec_vector_\" + str(x) for x in doc2vec_df.columns]\n",
        "doc2vec_df"
      ],
      "execution_count": 22,
      "outputs": [
        {
          "output_type": "execute_result",
          "data": {
            "text/html": [
              "<div>\n",
              "<style scoped>\n",
              "    .dataframe tbody tr th:only-of-type {\n",
              "        vertical-align: middle;\n",
              "    }\n",
              "\n",
              "    .dataframe tbody tr th {\n",
              "        vertical-align: top;\n",
              "    }\n",
              "\n",
              "    .dataframe thead th {\n",
              "        text-align: right;\n",
              "    }\n",
              "</style>\n",
              "<table border=\"1\" class=\"dataframe\">\n",
              "  <thead>\n",
              "    <tr style=\"text-align: right;\">\n",
              "      <th></th>\n",
              "      <th>doc2vec_vector_0</th>\n",
              "      <th>doc2vec_vector_1</th>\n",
              "      <th>doc2vec_vector_2</th>\n",
              "      <th>doc2vec_vector_3</th>\n",
              "      <th>doc2vec_vector_4</th>\n",
              "    </tr>\n",
              "  </thead>\n",
              "  <tbody>\n",
              "    <tr>\n",
              "      <th>0</th>\n",
              "      <td>0.072011</td>\n",
              "      <td>0.028262</td>\n",
              "      <td>0.013007</td>\n",
              "      <td>-0.031722</td>\n",
              "      <td>0.029841</td>\n",
              "    </tr>\n",
              "    <tr>\n",
              "      <th>1</th>\n",
              "      <td>0.155015</td>\n",
              "      <td>-0.076165</td>\n",
              "      <td>0.131011</td>\n",
              "      <td>0.047017</td>\n",
              "      <td>0.052677</td>\n",
              "    </tr>\n",
              "    <tr>\n",
              "      <th>2</th>\n",
              "      <td>0.091201</td>\n",
              "      <td>-0.000911</td>\n",
              "      <td>-0.084334</td>\n",
              "      <td>0.063971</td>\n",
              "      <td>0.097844</td>\n",
              "    </tr>\n",
              "    <tr>\n",
              "      <th>3</th>\n",
              "      <td>-0.044433</td>\n",
              "      <td>0.041983</td>\n",
              "      <td>0.087000</td>\n",
              "      <td>0.047607</td>\n",
              "      <td>0.060300</td>\n",
              "    </tr>\n",
              "    <tr>\n",
              "      <th>4</th>\n",
              "      <td>0.098895</td>\n",
              "      <td>0.073085</td>\n",
              "      <td>0.087959</td>\n",
              "      <td>-0.025063</td>\n",
              "      <td>-0.068433</td>\n",
              "    </tr>\n",
              "    <tr>\n",
              "      <th>...</th>\n",
              "      <td>...</td>\n",
              "      <td>...</td>\n",
              "      <td>...</td>\n",
              "      <td>...</td>\n",
              "      <td>...</td>\n",
              "    </tr>\n",
              "    <tr>\n",
              "      <th>24778</th>\n",
              "      <td>0.268599</td>\n",
              "      <td>-0.100037</td>\n",
              "      <td>0.168223</td>\n",
              "      <td>0.114593</td>\n",
              "      <td>0.052692</td>\n",
              "    </tr>\n",
              "    <tr>\n",
              "      <th>24779</th>\n",
              "      <td>0.103795</td>\n",
              "      <td>0.013489</td>\n",
              "      <td>-0.002311</td>\n",
              "      <td>0.049559</td>\n",
              "      <td>-0.091732</td>\n",
              "    </tr>\n",
              "    <tr>\n",
              "      <th>24780</th>\n",
              "      <td>0.098303</td>\n",
              "      <td>0.042347</td>\n",
              "      <td>0.043432</td>\n",
              "      <td>-0.076464</td>\n",
              "      <td>0.108152</td>\n",
              "    </tr>\n",
              "    <tr>\n",
              "      <th>24781</th>\n",
              "      <td>0.007689</td>\n",
              "      <td>0.004044</td>\n",
              "      <td>-0.018892</td>\n",
              "      <td>0.038287</td>\n",
              "      <td>0.037303</td>\n",
              "    </tr>\n",
              "    <tr>\n",
              "      <th>24782</th>\n",
              "      <td>0.313997</td>\n",
              "      <td>-0.006349</td>\n",
              "      <td>0.156180</td>\n",
              "      <td>0.204214</td>\n",
              "      <td>-0.056533</td>\n",
              "    </tr>\n",
              "  </tbody>\n",
              "</table>\n",
              "<p>24783 rows × 5 columns</p>\n",
              "</div>"
            ],
            "text/plain": [
              "       doc2vec_vector_0  doc2vec_vector_1  ...  doc2vec_vector_3  doc2vec_vector_4\n",
              "0              0.072011          0.028262  ...         -0.031722          0.029841\n",
              "1              0.155015         -0.076165  ...          0.047017          0.052677\n",
              "2              0.091201         -0.000911  ...          0.063971          0.097844\n",
              "3             -0.044433          0.041983  ...          0.047607          0.060300\n",
              "4              0.098895          0.073085  ...         -0.025063         -0.068433\n",
              "...                 ...               ...  ...               ...               ...\n",
              "24778          0.268599         -0.100037  ...          0.114593          0.052692\n",
              "24779          0.103795          0.013489  ...          0.049559         -0.091732\n",
              "24780          0.098303          0.042347  ...         -0.076464          0.108152\n",
              "24781          0.007689          0.004044  ...          0.038287          0.037303\n",
              "24782          0.313997         -0.006349  ...          0.204214         -0.056533\n",
              "\n",
              "[24783 rows x 5 columns]"
            ]
          },
          "metadata": {
            "tags": []
          },
          "execution_count": 22
        }
      ]
    },
    {
      "cell_type": "code",
      "metadata": {
        "id": "w1mrlrbzDaan",
        "colab": {
          "base_uri": "https://localhost:8080/"
        },
        "outputId": "aa7bb1a8-6fd4-4cba-d47e-af30ebeaea11"
      },
      "source": [
        "# conctaenation of tf-idf scores, sentiment scores and doc2vec columns\n",
        "modelling_features = np.concatenate([tfidf_a,final_features,doc2vec_df],axis=1)\n",
        "modelling_features.shape"
      ],
      "execution_count": 23,
      "outputs": [
        {
          "output_type": "execute_result",
          "data": {
            "text/plain": [
              "(24783, 6453)"
            ]
          },
          "metadata": {
            "tags": []
          },
          "execution_count": 23
        }
      ]
    },
    {
      "cell_type": "markdown",
      "metadata": {
        "id": "Awo7dJynDaao"
      },
      "source": [
        "### Running the models Using TFIDF with additional features from sentiment analysis and doc2vec"
      ]
    },
    {
      "cell_type": "code",
      "metadata": {
        "id": "dvstltk8Daap",
        "colab": {
          "base_uri": "https://localhost:8080/"
        },
        "outputId": "070a0287-5459-469a-f3a0-df264a4de45f"
      },
      "source": [
        "X = pd.DataFrame(modelling_features)\n",
        "y = dataset['class'].astype(int)\n",
        "X_train_bow, X_test_bow, y_train, y_test = train_test_split(X, y, random_state=42, test_size=0.2)\n",
        "\n",
        "model = LogisticRegression().fit(X_train_bow,y_train)\n",
        "y_preds = model.predict(X_test_bow)\n",
        "report = classification_report(y_test, y_preds)\n",
        "print(report)\n",
        "acc = accuracy_score(y_test,y_preds)\n",
        "print(\"Logistic Regression, Accuracy Score:\" , acc)"
      ],
      "execution_count": 24,
      "outputs": [
        {
          "output_type": "stream",
          "text": [
            "              precision    recall  f1-score   support\n",
            "\n",
            "           0       0.59      0.19      0.28       290\n",
            "           1       0.91      0.97      0.94      3832\n",
            "           2       0.85      0.84      0.84       835\n",
            "\n",
            "    accuracy                           0.90      4957\n",
            "   macro avg       0.78      0.66      0.69      4957\n",
            "weighted avg       0.88      0.90      0.88      4957\n",
            "\n",
            "Logistic Regression, Accuracy Score: 0.8981238652410732\n"
          ],
          "name": "stdout"
        },
        {
          "output_type": "stream",
          "text": [
            "/usr/local/lib/python3.7/dist-packages/sklearn/linear_model/_logistic.py:940: ConvergenceWarning: lbfgs failed to converge (status=1):\n",
            "STOP: TOTAL NO. of ITERATIONS REACHED LIMIT.\n",
            "\n",
            "Increase the number of iterations (max_iter) or scale the data as shown in:\n",
            "    https://scikit-learn.org/stable/modules/preprocessing.html\n",
            "Please also refer to the documentation for alternative solver options:\n",
            "    https://scikit-learn.org/stable/modules/linear_model.html#logistic-regression\n",
            "  extra_warning_msg=_LOGISTIC_SOLVER_CONVERGENCE_MSG)\n"
          ],
          "name": "stderr"
        }
      ]
    },
    {
      "cell_type": "code",
      "metadata": {
        "id": "xUs5vJmCDaap",
        "scrolled": true,
        "colab": {
          "base_uri": "https://localhost:8080/"
        },
        "outputId": "38739f56-e9c2-4702-fc67-f3a8d86bb5a3"
      },
      "source": [
        "X = pd.DataFrame(modelling_features)\n",
        "y = dataset['class'].astype(int)\n",
        "X_train_bow, X_test_bow, y_train, y_test = train_test_split(X, y, random_state=42, test_size=0.2)\n",
        "rf = RandomForestClassifier()\n",
        "rf.fit(X_train_bow,y_train)\n",
        "y_preds = rf.predict(X_test_bow)\n",
        "acc1 = accuracy_score(y_test,y_preds)\n",
        "report = classification_report(y_test, y_preds)\n",
        "print(report)\n",
        "print(\"Random Forest, Accuracy Score:\", acc1)"
      ],
      "execution_count": 25,
      "outputs": [
        {
          "output_type": "stream",
          "text": [
            "              precision    recall  f1-score   support\n",
            "\n",
            "           0       0.51      0.08      0.13       290\n",
            "           1       0.90      0.97      0.94      3832\n",
            "           2       0.86      0.81      0.83       835\n",
            "\n",
            "    accuracy                           0.89      4957\n",
            "   macro avg       0.76      0.62      0.63      4957\n",
            "weighted avg       0.87      0.89      0.87      4957\n",
            "\n",
            "Random Forest, Accuracy Score: 0.8918700827113173\n"
          ],
          "name": "stdout"
        }
      ]
    },
    {
      "cell_type": "code",
      "metadata": {
        "id": "3M4kvGNsDaaq",
        "colab": {
          "base_uri": "https://localhost:8080/"
        },
        "outputId": "f7f604ad-5fdf-4b5c-ff21-ce530d4d2c2a"
      },
      "source": [
        "X = pd.DataFrame(modelling_features)\n",
        "y = dataset['class'].astype(int)\n",
        "X_train, X_test, y_train, y_test = train_test_split(X, y, random_state=42, test_size=0.2)\n",
        "nb = GaussianNB()\n",
        "nb.fit(X_train,y_train)\n",
        "y_preds = nb.predict(X_test)\n",
        "acc2 = accuracy_score(y_test,y_preds)\n",
        "report = classification_report(y_test, y_preds)\n",
        "print(report)\n",
        "print(\"Naive Bayes, Accuracy Score:\", acc2)"
      ],
      "execution_count": 26,
      "outputs": [
        {
          "output_type": "stream",
          "text": [
            "              precision    recall  f1-score   support\n",
            "\n",
            "           0       0.10      0.39      0.16       290\n",
            "           1       0.89      0.68      0.77      3832\n",
            "           2       0.54      0.59      0.56       835\n",
            "\n",
            "    accuracy                           0.65      4957\n",
            "   macro avg       0.51      0.55      0.50      4957\n",
            "weighted avg       0.79      0.65      0.70      4957\n",
            "\n",
            "Naive Bayes, Accuracy Score: 0.650191648174299\n"
          ],
          "name": "stdout"
        }
      ]
    },
    {
      "cell_type": "code",
      "metadata": {
        "id": "dd9AXJrlDaar",
        "colab": {
          "base_uri": "https://localhost:8080/"
        },
        "outputId": "d6aaa177-8033-4acd-e50e-2e4bff54056a"
      },
      "source": [
        "X = pd.DataFrame(modelling_features)\n",
        "y = dataset['class'].astype(int)\n",
        "X_train_bow, X_test_bow, y_train, y_test = train_test_split(X, y, random_state=42, test_size=0.2)\n",
        "support = LinearSVC(random_state=20)\n",
        "support.fit(X_train_bow,y_train)\n",
        "y_preds = support.predict(X_test_bow)\n",
        "acc3 = accuracy_score(y_test,y_preds)\n",
        "report = classification_report(y_test, y_preds)\n",
        "print(report)\n",
        "print(\"SVM, Accuracy Score:\" , acc3)"
      ],
      "execution_count": 27,
      "outputs": [
        {
          "output_type": "stream",
          "text": [
            "              precision    recall  f1-score   support\n",
            "\n",
            "           0       0.44      0.25      0.32       290\n",
            "           1       0.92      0.95      0.94      3832\n",
            "           2       0.83      0.86      0.84       835\n",
            "\n",
            "    accuracy                           0.89      4957\n",
            "   macro avg       0.73      0.68      0.70      4957\n",
            "weighted avg       0.88      0.89      0.88      4957\n",
            "\n",
            "SVM, Accuracy Score: 0.891466612870688\n"
          ],
          "name": "stdout"
        },
        {
          "output_type": "stream",
          "text": [
            "/usr/local/lib/python3.7/dist-packages/sklearn/svm/_base.py:947: ConvergenceWarning: Liblinear failed to converge, increase the number of iterations.\n",
            "  \"the number of iterations.\", ConvergenceWarning)\n"
          ],
          "name": "stderr"
        }
      ]
    },
    {
      "cell_type": "code",
      "metadata": {
        "id": "Ss6JpLaUDaas",
        "colab": {
          "base_uri": "https://localhost:8080/",
          "height": 282
        },
        "outputId": "08039c89-71c3-4988-cc20-af94dffa279d"
      },
      "source": [
        "objects = ('Logistic', 'RandomForest', 'Naive_bayes', 'SVM')\n",
        "y_pos = np.arange(len(objects))\n",
        "performance = [acc,acc1,acc2,acc3]\n",
        "plt.bar(y_pos, performance, align = 'center', alpha=0.5)\n",
        "plt.xticks(y_pos, objects)\n",
        "plt.ylabel('Accuracy')\n",
        "plt.title('Algorithm Comparision')\n",
        "plt.show()"
      ],
      "execution_count": 28,
      "outputs": [
        {
          "output_type": "display_data",
          "data": {
            "image/png": "[encoded data removed]",
            "text/plain": [
              "<Figure size 432x288 with 1 Axes>"
            ]
          },
          "metadata": {
            "tags": [],
            "needs_background": "light"
          }
        }
      ]
    },
    {
      "cell_type": "code",
      "metadata": {
        "id": "T7PUtMz9LLXi"
      },
      "source": [
        "# confusion_matrix = confusion_matrix(y_test,y_preds)\n",
        "# matrix_proportions = np.zeros((3,3))\n",
        "# for i in range(0,3):\n",
        "#     matrix_proportions[i,:] = confusion_matrix[i,:]/float(confusion_matrix[i,:].sum())\n",
        "# names=['Hate','Offensive','Neither']\n",
        "# confusion_df = pd.DataFrame(matrix_proportions, index=names,columns=names)\n",
        "# plt.figure(figsize=(5,5))\n",
        "# sns.heatmap(confusion_df,annot=True,annot_kws={\"size\": 12},cmap='YlGnBu',cbar=False, square=True,fmt='.2f')\n",
        "# plt.ylabel(r'True Class',fontsize=14)\n",
        "# plt.xlabel(r'Predicted Class',fontsize=14)\n",
        "# plt.tick_params(labelsize=12)"
      ],
      "execution_count": 29,
      "outputs": []
    },
    {
      "cell_type": "code",
      "metadata": {
        "id": "nwXpq6bFDaau"
      },
      "source": [
        "#Using TFIDF with sentiment scores,doc2vec and enhanced features\n",
        "def additional_features(tweet): \n",
        "    \n",
        "    syllables = textstat.syllable_count(tweet)\n",
        "    num_chars = sum(len(w) for w in tweet)\n",
        "    num_chars_total = len(tweet)\n",
        "    num_words = len(tweet.split())\n",
        "    # avg_syl = total syllables/ total words\n",
        "    avg_syl = round(float((syllables+0.001))/float(num_words+0.001),4)\n",
        "    num_unique_terms = len(set(tweet.split()))\n",
        "    \n",
        "    #  Flesch–Kincaid readability tests are readability tests\n",
        "    # Modified FK grade, where avg words per sentence is : just num words/1\n",
        "    FKRA = round(float(0.39 * float(num_words)/1.0) + float(11.8 * avg_syl) - 15.59,1)\n",
        "    # Modified FRE score, where sentence fixed to 1\n",
        "    FRE = round(206.835 - 1.015*(float(num_words)/1.0) - (84.6*float(avg_syl)),2)\n",
        "    \n",
        "    add_features = [FKRA, FRE,syllables, avg_syl, num_chars, num_chars_total, num_words,\n",
        "                num_unique_terms]\n",
        "    return add_features\n",
        "\n",
        "def get_additonal_feature_array(tweets):\n",
        "    features = []\n",
        "    for t in tweets:\n",
        "        features.append(additional_features(t))\n",
        "    return np.array(features)\n",
        "\n",
        "fFeatures = get_additonal_feature_array(processed_tweets)"
      ],
      "execution_count": 30,
      "outputs": []
    },
    {
      "cell_type": "code",
      "metadata": {
        "id": "0RU_nnEvDaav",
        "colab": {
          "base_uri": "https://localhost:8080/"
        },
        "outputId": "c17f4e0b-93b6-4e14-f8a0-70b9e7a7b6ac"
      },
      "source": [
        "tfidf_a = tfidf.toarray()\n",
        "modelling_features_enhanced = np.concatenate([tfidf_a,final_features,doc2vec_df,fFeatures],axis=1)\n",
        "modelling_features_enhanced.shape"
      ],
      "execution_count": 31,
      "outputs": [
        {
          "output_type": "execute_result",
          "data": {
            "text/plain": [
              "(24783, 6461)"
            ]
          },
          "metadata": {
            "tags": []
          },
          "execution_count": 31
        }
      ]
    },
    {
      "cell_type": "markdown",
      "metadata": {
        "id": "RBvGc4IrDaaw"
      },
      "source": [
        "### Running the models Using TFIDF with sentiment scores,doc2vec and enhanced features"
      ]
    },
    {
      "cell_type": "code",
      "metadata": {
        "id": "IOGnE_BbDaaw",
        "colab": {
          "base_uri": "https://localhost:8080/"
        },
        "outputId": "b2cf90bc-73ff-4723-88f3-7126cfb2ddd4"
      },
      "source": [
        "# Running the model Using TFIDF with enhanced features\n",
        "\n",
        "X = pd.DataFrame(modelling_features_enhanced)\n",
        "y = dataset['class'].astype(int)\n",
        "X_train_features, X_test_features, y_train, y_test = train_test_split(X, y, random_state=0, test_size=0.2)\n",
        "\n",
        "model = LogisticRegression().fit(X_train_features,y_train)\n",
        "y_preds = model.predict(X_test_features)\n",
        "report = classification_report(y_test, y_preds)\n",
        "print(report)\n",
        "acc = accuracy_score(y_test,y_preds)\n",
        "print(\"Logistic Regression, Accuracy Score:\" , acc)"
      ],
      "execution_count": 32,
      "outputs": [
        {
          "output_type": "stream",
          "text": [
            "              precision    recall  f1-score   support\n",
            "\n",
            "           0       0.00      0.00      0.00       279\n",
            "           1       0.82      0.96      0.88      3852\n",
            "           2       0.61      0.31      0.41       826\n",
            "\n",
            "    accuracy                           0.80      4957\n",
            "   macro avg       0.47      0.42      0.43      4957\n",
            "weighted avg       0.74      0.80      0.75      4957\n",
            "\n",
            "Logistic Regression, Accuracy Score: 0.7982650796852935\n"
          ],
          "name": "stdout"
        },
        {
          "output_type": "stream",
          "text": [
            "/usr/local/lib/python3.7/dist-packages/sklearn/linear_model/_logistic.py:940: ConvergenceWarning: lbfgs failed to converge (status=1):\n",
            "STOP: TOTAL NO. of ITERATIONS REACHED LIMIT.\n",
            "\n",
            "Increase the number of iterations (max_iter) or scale the data as shown in:\n",
            "    https://scikit-learn.org/stable/modules/preprocessing.html\n",
            "Please also refer to the documentation for alternative solver options:\n",
            "    https://scikit-learn.org/stable/modules/linear_model.html#logistic-regression\n",
            "  extra_warning_msg=_LOGISTIC_SOLVER_CONVERGENCE_MSG)\n",
            "/usr/local/lib/python3.7/dist-packages/sklearn/metrics/_classification.py:1272: UndefinedMetricWarning: Precision and F-score are ill-defined and being set to 0.0 in labels with no predicted samples. Use `zero_division` parameter to control this behavior.\n",
            "  _warn_prf(average, modifier, msg_start, len(result))\n"
          ],
          "name": "stderr"
        }
      ]
    },
    {
      "cell_type": "code",
      "metadata": {
        "id": "HpxwT4QVDaay",
        "colab": {
          "base_uri": "https://localhost:8080/"
        },
        "outputId": "ed8ce0ec-a4cf-411a-9c62-c79fe21677ce"
      },
      "source": [
        "testing_index=list(X_test_features.index[0:10])\n",
        "print(testing_index)"
      ],
      "execution_count": 33,
      "outputs": [
        {
          "output_type": "stream",
          "text": [
            "[4129, 15081, 16547, 4273, 4254, 4857, 16974, 6609, 8946, 23210]\n"
          ],
          "name": "stdout"
        }
      ]
    },
    {
      "cell_type": "code",
      "metadata": {
        "id": "dvkvDE_h3kDw",
        "colab": {
          "base_uri": "https://localhost:8080/"
        },
        "outputId": "b81c0588-19b2-4138-ef69-18f818f0e3cd"
      },
      "source": [
        "print(\"Predicted Class:\",y_preds[0:10])\n",
        "print(\"Actual Class:\",y_test.tolist()[0:10])"
      ],
      "execution_count": 34,
      "outputs": [
        {
          "output_type": "stream",
          "text": [
            "Predicted Class: [1 1 1 1 1 1 1 1 1 1]\n",
            "Actual Class: [2, 1, 1, 0, 2, 1, 1, 1, 2, 2]\n"
          ],
          "name": "stdout"
        }
      ]
    },
    {
      "cell_type": "code",
      "metadata": {
        "id": "VCQqVuJ3Daaz",
        "colab": {
          "base_uri": "https://localhost:8080/",
          "height": 317
        },
        "outputId": "a50c2293-9e35-40b7-fac7-00da5e47fd29"
      },
      "source": [
        "# Histogram presenting the count of different classes - Actual\n",
        "ax=y_test.hist()\n",
        "ax.set_xlabel(\"Class\", labelpad=20, weight='bold', size=12)\n",
        "ax.set_ylabel(\"Count\", labelpad=20, weight='bold', size=12)"
      ],
      "execution_count": 35,
      "outputs": [
        {
          "output_type": "execute_result",
          "data": {
            "text/plain": [
              "Text(0, 0.5, 'Count')"
            ]
          },
          "metadata": {
            "tags": []
          },
          "execution_count": 35
        },
        {
          "output_type": "display_data",
          "data": {
            "image/png": "[encoded data removed]",
            "text/plain": [
              "<Figure size 432x288 with 1 Axes>"
            ]
          },
          "metadata": {
            "tags": [],
            "needs_background": "light"
          }
        }
      ]
    },
    {
      "cell_type": "code",
      "metadata": {
        "id": "qqWiVMhEDaa1",
        "colab": {
          "base_uri": "https://localhost:8080/",
          "height": 315
        },
        "outputId": "9a0bf035-a0b2-40ad-ed6b-ef6edcdcf228"
      },
      "source": [
        "# Histogram presenting the count of different classes - Predicted\n",
        "ax = pd.Series(y_preds).hist()\n",
        "ax.set_xlabel(\"Class\", labelpad=20, weight='bold', size=12)\n",
        "ax.set_ylabel(\"Count\", labelpad=20, weight='bold', size=12)"
      ],
      "execution_count": 36,
      "outputs": [
        {
          "output_type": "execute_result",
          "data": {
            "text/plain": [
              "Text(0, 0.5, 'Count')"
            ]
          },
          "metadata": {
            "tags": []
          },
          "execution_count": 36
        },
        {
          "output_type": "display_data",
          "data": {
            "image/png": "[encoded data removed]",
            "text/plain": [
              "<Figure size 432x288 with 1 Axes>"
            ]
          },
          "metadata": {
            "tags": [],
            "needs_background": "light"
          }
        }
      ]
    },
    {
      "cell_type": "code",
      "metadata": {
        "id": "MpMgTH6oDaa2",
        "colab": {
          "base_uri": "https://localhost:8080/"
        },
        "outputId": "49e62bcb-495e-4fcf-88b7-936157404b9d"
      },
      "source": [
        "X = pd.DataFrame(modelling_features_enhanced)\n",
        "y = dataset['class'].astype(int)\n",
        "X_train_features, X_test_features, y_train, y_test = train_test_split(X, y, random_state=0, test_size=0.2)\n",
        "rf = RandomForestClassifier()\n",
        "rf.fit(X_train_features,y_train)\n",
        "y_preds = rf.predict(X_test_features)\n",
        "acc1 = accuracy_score(y_test,y_preds)\n",
        "report = classification_report(y_test, y_preds)\n",
        "print(report)\n",
        "print(\"Random Forest, Accuracy Score:\", acc1)"
      ],
      "execution_count": 37,
      "outputs": [
        {
          "output_type": "stream",
          "text": [
            "              precision    recall  f1-score   support\n",
            "\n",
            "           0       0.48      0.04      0.07       279\n",
            "           1       0.89      0.97      0.93      3852\n",
            "           2       0.85      0.72      0.78       826\n",
            "\n",
            "    accuracy                           0.88      4957\n",
            "   macro avg       0.74      0.58      0.59      4957\n",
            "weighted avg       0.86      0.88      0.86      4957\n",
            "\n",
            "Random Forest, Accuracy Score: 0.879765987492435\n"
          ],
          "name": "stdout"
        }
      ]
    },
    {
      "cell_type": "code",
      "metadata": {
        "id": "AghU6qVSDaa3",
        "colab": {
          "base_uri": "https://localhost:8080/"
        },
        "outputId": "275d6fda-564d-42ac-e106-e08d71508da6"
      },
      "source": [
        "X = pd.DataFrame(modelling_features_enhanced)\n",
        "y = dataset['class'].astype(int)\n",
        "X_train_features, X_test_features, y_train, y_test = train_test_split(X, y, random_state=0, test_size=0.2)\n",
        "nb = GaussianNB()\n",
        "nb.fit(X_train_features,y_train)\n",
        "y_preds = nb.predict(X_test_features)\n",
        "acc2 = accuracy_score(y_test,y_preds)\n",
        "report = classification_report(y_test, y_preds)\n",
        "print(report)\n",
        "print(\"Naive Bayes, Accuracy Score:\", acc2)"
      ],
      "execution_count": 38,
      "outputs": [
        {
          "output_type": "stream",
          "text": [
            "              precision    recall  f1-score   support\n",
            "\n",
            "           0       0.09      0.36      0.15       279\n",
            "           1       0.90      0.69      0.78      3852\n",
            "           2       0.59      0.65      0.62       826\n",
            "\n",
            "    accuracy                           0.66      4957\n",
            "   macro avg       0.53      0.57      0.51      4957\n",
            "weighted avg       0.80      0.66      0.72      4957\n",
            "\n",
            "Naive Bayes, Accuracy Score: 0.662497478313496\n"
          ],
          "name": "stdout"
        }
      ]
    },
    {
      "cell_type": "code",
      "metadata": {
        "id": "8Z_YHCftDaa5",
        "colab": {
          "base_uri": "https://localhost:8080/"
        },
        "outputId": "ed22f1d3-3a22-4294-9cd3-e09bb9ca8e83"
      },
      "source": [
        "X = pd.DataFrame(modelling_features_enhanced)\n",
        "y = dataset['class'].astype(int)\n",
        "X_train_features, X_test_features, y_train, y_test_helo = train_test_split(X, y, random_state=0, test_size=0.2)\n",
        "support =LinearSVC(random_state=20)\n",
        "support.fit(X_train_features,y_train)\n",
        "y_preds = support.predict(X_test_features)\n",
        "acc3=accuracy_score(y_test_helo,y_preds)\n",
        "report = classification_report( y_test_helo, y_preds)\n",
        "print(report)\n",
        "print(\"SVM, Accuracy Score:\" , acc3 )"
      ],
      "execution_count": 39,
      "outputs": [
        {
          "output_type": "stream",
          "text": [
            "              precision    recall  f1-score   support\n",
            "\n",
            "           0       0.08      0.87      0.15       279\n",
            "           1       0.98      0.44      0.60      3852\n",
            "           2       0.92      0.23      0.36       826\n",
            "\n",
            "    accuracy                           0.43      4957\n",
            "   macro avg       0.66      0.51      0.37      4957\n",
            "weighted avg       0.92      0.43      0.54      4957\n",
            "\n",
            "SVM, Accuracy Score: 0.4262658866249748\n"
          ],
          "name": "stdout"
        },
        {
          "output_type": "stream",
          "text": [
            "/usr/local/lib/python3.7/dist-packages/sklearn/svm/_base.py:947: ConvergenceWarning: Liblinear failed to converge, increase the number of iterations.\n",
            "  \"the number of iterations.\", ConvergenceWarning)\n"
          ],
          "name": "stderr"
        }
      ]
    },
    {
      "cell_type": "code",
      "metadata": {
        "id": "2sUVIssUDaa5",
        "colab": {
          "base_uri": "https://localhost:8080/",
          "height": 282
        },
        "outputId": "d7d23982-a424-4d0c-fef1-24f66eaf4b2e"
      },
      "source": [
        "objects = ('Logistic', 'RandomForest', 'Naive_bayes', 'SVM')\n",
        "y_pos = np.arange(len(objects))\n",
        "performance = [acc,acc1,acc2,acc3]\n",
        "plt.bar(y_pos, performance, align='center', alpha=0.5)\n",
        "plt.xticks(y_pos, objects)\n",
        "plt.ylabel('Accuracy')\n",
        "plt.title('Algorithm Comparision')\n",
        "plt.show()"
      ],
      "execution_count": 40,
      "outputs": [
        {
          "output_type": "display_data",
          "data": {
            "image/png": "[encoded data removed]",
            "text/plain": [
              "<Figure size 432x288 with 1 Axes>"
            ]
          },
          "metadata": {
            "tags": [],
            "needs_background": "light"
          }
        }
      ]
    },
    {
      "cell_type": "code",
      "metadata": {
        "id": "VZRxM4NOLaXS"
      },
      "source": [
        "# confusion_matrix = confusion_matrix(y_test,y_preds)\n",
        "# matrix_proportions = np.zeros((3,3))\n",
        "# for i in range(0,3):\n",
        "#     matrix_proportions[i,:] = confusion_matrix[i,:]/float(confusion_matrix[i,:].sum())\n",
        "# names=['Hate','Offensive','Neither']\n",
        "# confusion_df = panda.DataFrame(matrix_proportions, index=names,columns=names)\n",
        "# plt.figure(figsize=(5,5))\n",
        "# sns.heatmap(confusion_df,annot=True,annot_kws={\"size\": 12},cmap='YlGnBu',cbar=False, square=True,fmt='.2f')\n",
        "# plt.ylabel(r'True Class',fontsize=14)\n",
        "# plt.xlabel(r'Predicted Class',fontsize=14)\n",
        "# plt.tick_params(labelsize=12)"
      ],
      "execution_count": 41,
      "outputs": []
    },
    {
      "cell_type": "markdown",
      "metadata": {
        "id": "CGK_WWllDaa6"
      },
      "source": [
        "## Combining different features"
      ]
    },
    {
      "cell_type": "code",
      "metadata": {
        "id": "tdO7wPGQDaa6",
        "colab": {
          "base_uri": "https://localhost:8080/"
        },
        "outputId": "a336634f-b701-45c4-9d49-80a5b5b52bf3"
      },
      "source": [
        "#f1, f3 and f4 combined\n",
        "tfidf_a = tfidf.toarray()\n",
        "modelling_features_one = np.concatenate([tfidf_a,doc2vec_df,fFeatures],axis=1)\n",
        "modelling_features_one.shape"
      ],
      "execution_count": 42,
      "outputs": [
        {
          "output_type": "execute_result",
          "data": {
            "text/plain": [
              "(24783, 6454)"
            ]
          },
          "metadata": {
            "tags": []
          },
          "execution_count": 42
        }
      ]
    },
    {
      "cell_type": "code",
      "metadata": {
        "id": "2GerG2uWDaa6",
        "colab": {
          "base_uri": "https://localhost:8080/"
        },
        "outputId": "b5f73a72-70a8-4a4c-9b05-0169e796337d"
      },
      "source": [
        "X = pd.DataFrame(modelling_features_one)\n",
        "y = dataset['class'].astype(int)\n",
        "X_train_features, X_test_features, y_train, y_test = train_test_split(X, y, random_state=0, test_size=0.2)\n",
        "support = LinearSVC(random_state=20)\n",
        "support.fit(X_train_features,y_train)\n",
        "y_preds = support.predict(X_test_features)\n",
        "acc3 = accuracy_score(y_test,y_preds)\n",
        "report = classification_report( y_test, y_preds)\n",
        "print(report)\n",
        "print(\"SVM, Accuracy Score:\" , acc3 )"
      ],
      "execution_count": 43,
      "outputs": [
        {
          "output_type": "stream",
          "text": [
            "              precision    recall  f1-score   support\n",
            "\n",
            "           0       0.60      0.10      0.18       279\n",
            "           1       0.89      0.97      0.93      3852\n",
            "           2       0.85      0.74      0.80       826\n",
            "\n",
            "    accuracy                           0.89      4957\n",
            "   macro avg       0.78      0.61      0.63      4957\n",
            "weighted avg       0.87      0.89      0.87      4957\n",
            "\n",
            "SVM, Accuracy Score: 0.8860197700221908\n"
          ],
          "name": "stdout"
        },
        {
          "output_type": "stream",
          "text": [
            "/usr/local/lib/python3.7/dist-packages/sklearn/svm/_base.py:947: ConvergenceWarning: Liblinear failed to converge, increase the number of iterations.\n",
            "  \"the number of iterations.\", ConvergenceWarning)\n"
          ],
          "name": "stderr"
        }
      ]
    },
    {
      "cell_type": "code",
      "metadata": {
        "id": "Td0Nv-gADaa7",
        "colab": {
          "base_uri": "https://localhost:8080/"
        },
        "outputId": "112d94db-f19f-4155-87ef-70dda5785a16"
      },
      "source": [
        "#f1, f2 and f4 combined\n",
        "tfidf_a = tfidf.toarray()\n",
        "modelling_features_two = np.concatenate([tfidf_a,final_features,fFeatures],axis=1)\n",
        "modelling_features_two.shape"
      ],
      "execution_count": 44,
      "outputs": [
        {
          "output_type": "execute_result",
          "data": {
            "text/plain": [
              "(24783, 6456)"
            ]
          },
          "metadata": {
            "tags": []
          },
          "execution_count": 44
        }
      ]
    },
    {
      "cell_type": "code",
      "metadata": {
        "id": "bhz88bERDaa8"
      },
      "source": [
        "X = pd.DataFrame(modelling_features_two)\n",
        "y = dataset['class'].astype(int)\n",
        "X_train_features, X_test_features, y_train, y_test = train_test_split(X, y, random_state=0, test_size=0.2)\n",
        "support =LinearSVC(random_state=20)\n",
        "support.fit(X_train_features,y_train)\n",
        "y_preds = support.predict(X_test_features)\n",
        "acc3 = accuracy_score(y_test,y_preds)\n",
        "report = classification_report( y_test, y_preds )\n",
        "print(report)\n",
        "print(\"SVM, Accuracy Score:\" , acc3)"
      ],
      "execution_count": null,
      "outputs": []
    },
    {
      "cell_type": "code",
      "metadata": {
        "id": "iDl_Ft0CDaa9"
      },
      "source": [
        "#f2, f3 and f4 combined\n",
        "modelling_features_three = np.concatenate([final_features,fFeatures],axis=1)\n",
        "modelling_features_three.shape"
      ],
      "execution_count": null,
      "outputs": []
    },
    {
      "cell_type": "code",
      "metadata": {
        "id": "kP4LZeLrDaa_"
      },
      "source": [
        "X = pd.DataFrame(modelling_features_three)\n",
        "y = dataset['class'].astype(int)\n",
        "X_train_features, X_test_features, y_train, y_test = train_test_split(X, y, random_state=0, test_size=0.2)\n",
        "support = LinearSVC(random_state=20)\n",
        "support.fit(X_train_features,y_train)\n",
        "y_preds = support.predict(X_test_features)\n",
        "acc3 = accuracy_score(y_test,y_preds)\n",
        "report = classification_report( y_test, y_preds)\n",
        "print(report)\n",
        "print(\"SVM, Accuracy Score:\" , acc3)"
      ],
      "execution_count": null,
      "outputs": []
    },
    {
      "cell_type": "code",
      "metadata": {
        "id": "aPrMEThkLym6"
      },
      "source": [
        "X = pd.DataFrame(modelling_features_two)\n",
        "y = dataset['class'].astype(int)\n",
        "X_train_features, X_test_features, y_train, y_test = train_test_split(X, y, random_state=0, test_size=0.2)\n",
        "nb = GaussianNB()\n",
        "nb.fit(X_train_features,y_train)\n",
        "y_preds = nb.predict(X_test_features)\n",
        "acc2=accuracy_score(y_test,y_preds)\n",
        "report = classification_report( y_test, y_preds )\n",
        "print(report)\n",
        "print(\"Naive Bayes, Accuracy Score:\", acc2)"
      ],
      "execution_count": null,
      "outputs": []
    },
    {
      "cell_type": "code",
      "metadata": {
        "id": "TVgvaspELyoe"
      },
      "source": [
        "X = pd.DataFrame(modelling_features_two)\n",
        "y = dataset['class'].astype(int)\n",
        "X_train, X_test, y_train, y_test = train_test_split(X, y, random_state=0, test_size=0.2)\n",
        "\n",
        "model = LogisticRegression().fit(X_train,y_train)\n",
        "y_preds = model.predict(X_test)\n",
        "report = classification_report( y_test, y_preds )\n",
        "print(report)\n",
        "acc=accuracy_score(y_test,y_preds)\n",
        "print(\"Logistic Regression, Accuracy Score:\" , acc)"
      ],
      "execution_count": null,
      "outputs": []
    },
    {
      "cell_type": "code",
      "metadata": {
        "id": "iFqYT4yNMAW7"
      },
      "source": [
        "X = pd.DataFrame(modelling_features_three)\n",
        "y = dataset['class'].astype(int)\n",
        "X_train, X_test, y_train, y_test = train_test_split(X, y, random_state=0, test_size=0.2)\n",
        "rf=RandomForestClassifier()\n",
        "rf.fit(X_train,y_train)\n",
        "y_preds = rf.predict(X_test)\n",
        "acc1=accuracy_score(y_test,y_preds)\n",
        "report = classification_report( y_test, y_preds )\n",
        "print(report)\n",
        "print(\"Random Forest, Accuracy Score:\", acc1)"
      ],
      "execution_count": null,
      "outputs": []
    },
    {
      "cell_type": "code",
      "metadata": {
        "id": "rldpOQVXLc6r"
      },
      "source": [
        "confusion_matrix = confusion_matrix(y_test,y_preds)\n",
        "matrix_proportions = np.zeros((3,3))\n",
        "for i in range(0,3):\n",
        "    matrix_proportions[i,:] = confusion_matrix[i,:]/float(confusion_matrix[i,:].sum())\n",
        "names=['Hate','Offensive','Neither']\n",
        "confusion_df = panda.DataFrame(matrix_proportions, index=names,columns=names)\n",
        "plt.figure(figsize=(5,5))\n",
        "sns.heatmap(confusion_df,annot=True,annot_kws={\"size\": 12},cmap='YlGnBu',cbar=False, square=True,fmt='.2f')\n",
        "plt.ylabel(r'True Class',fontsize=14)\n",
        "plt.xlabel(r'Predicted Class',fontsize=14)\n",
        "plt.tick_params(labelsize=12)"
      ],
      "execution_count": null,
      "outputs": []
    }
  ]
}